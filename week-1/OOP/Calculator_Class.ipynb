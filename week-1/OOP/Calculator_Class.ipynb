{
 "cells": [
  {
   "cell_type": "code",
   "execution_count": 59,
   "metadata": {},
   "outputs": [],
   "source": [
    "import math\n",
    "\n",
    "class Calculator:\n",
    "    def __init__(self,data):\n",
    "        self.data = data\n",
    "        self.__update()\n",
    "#         self.__length = len(self.data)\n",
    "#         self.mean = self.__calc_mean()\n",
    "#         self.median = self.__calc_median()\n",
    "#         self.variance = self.__calc_var()\n",
    "#         self.standev = self.__calc_stdv()\n",
    "\n",
    "    def __update(self):\n",
    "        self.length = len(self.data)\n",
    "        self.mean = self.__calc_mean()\n",
    "        self.median = self.__calc_median()\n",
    "        self.variance = self.__calc_var()\n",
    "        self.standev = self.__calc_stdv()\n",
    "\n",
    "    def __calc_mean(self):\n",
    "        mean = sum(self.data)/self.length\n",
    "        return mean\n",
    "    \n",
    "    def __calc_median(self):\n",
    "        srt_data = sorted(self.data)\n",
    "        if self.length%2 == 0:\n",
    "            median = (srt_data[self.length//2 - 1]+srt_data[self.length//2])/2\n",
    "        else:\n",
    "            median = srt_data[self.length//2]\n",
    "        return median\n",
    "    \n",
    "    def __calc_var(self):\n",
    "        return sum([(x-self.mean)**2 for x in self.data])/(len(self.data)-1)\n",
    "    \n",
    "    def __calc_stdv(self):\n",
    "        return math.sqrt(self.variance)\n",
    "    \n",
    "    def add_data(self,new_data):\n",
    "        if type(new_data)==list:\n",
    "            self.data.extend(new_data)\n",
    "        else:\n",
    "            self.data.append(new_data)\n",
    "        self.__update()\n",
    "        \n",
    "    def remove_data(self,index):\n",
    "        del self.data[index]\n",
    "        self.__update()\n",
    "        \n",
    "    \n",
    "new_calc = Calculator([55, 56, 56, 58, 60, 61, 63, 64, 70])"
   ]
  },
  {
   "cell_type": "code",
   "execution_count": 60,
   "metadata": {},
   "outputs": [
    {
     "name": "stdout",
     "output_type": "stream",
     "text": [
      "[55, 56, 56, 58, 60, 61, 63, 64, 70]\n",
      "60\n",
      "[55, 56, 56, 58, 60, 61, 63, 64, 70, 55]\n",
      "59.0\n",
      "[55, 56, 56, 58, 60, 63, 64, 70, 55]\n"
     ]
    }
   ],
   "source": [
    "print(new_calc.data)\n",
    "print(new_calc.median)\n",
    "new_calc.add_data(55)\n",
    "print(new_calc.data)\n",
    "print(new_calc.median)\n",
    "new_calc.remove_data(5)\n",
    "print(new_calc.data)"
   ]
  },
  {
   "cell_type": "code",
   "execution_count": null,
   "metadata": {},
   "outputs": [],
   "source": []
  },
  {
   "cell_type": "code",
   "execution_count": null,
   "metadata": {},
   "outputs": [],
   "source": []
  }
 ],
 "metadata": {
  "kernelspec": {
   "display_name": "Python 3",
   "language": "python",
   "name": "python3"
  },
  "language_info": {
   "codemirror_mode": {
    "name": "ipython",
    "version": 3
   },
   "file_extension": ".py",
   "mimetype": "text/x-python",
   "name": "python",
   "nbconvert_exporter": "python",
   "pygments_lexer": "ipython3",
   "version": "3.7.3"
  }
 },
 "nbformat": 4,
 "nbformat_minor": 2
}
