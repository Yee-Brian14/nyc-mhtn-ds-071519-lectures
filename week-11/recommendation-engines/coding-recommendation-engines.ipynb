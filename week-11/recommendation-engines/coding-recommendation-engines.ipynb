{
 "cells": [
  {
   "cell_type": "markdown",
   "metadata": {},
   "source": [
    "# Recommendation Engines: Implementing Surprise\n",
    "- Surprise is a scikit library that stands for **Simple Python RecommendatIon System Engine**\n",
    "- Has built-in similarity metrics, baseline methods, content-based systems, matrix factorization systems\n",
    "\n",
    "In this notebook, we'll first walk through setting up a super basic recommendation system, using the popular MovieLens 100K Dataset. Then, we'll look into more detail how Surprise works.\n",
    "\n",
    "## Fitting and Predicting with Surprise\n",
    "\n",
    "### 1. Install surprise if you haven't, and import the usual libraries."
   ]
  },
  {
   "cell_type": "code",
   "execution_count": 1,
   "metadata": {
    "collapsed": true
   },
   "outputs": [
    {
     "name": "stdout",
     "output_type": "stream",
     "text": [
      "Collecting surprise\n",
      "  Downloading https://files.pythonhosted.org/packages/61/de/e5cba8682201fcf9c3719a6fdda95693468ed061945493dea2dd37c5618b/surprise-0.1-py2.py3-none-any.whl\n",
      "Collecting scikit-surprise (from surprise)\n",
      "\u001b[?25l  Downloading https://files.pythonhosted.org/packages/f5/da/b5700d96495fb4f092be497f02492768a3d96a3f4fa2ae7dea46d4081cfa/scikit-surprise-1.1.0.tar.gz (6.4MB)\n",
      "\u001b[K    100% |████████████████████████████████| 6.5MB 3.8MB/s eta 0:00:01\n",
      "\u001b[?25hCollecting joblib>=0.11 (from scikit-surprise->surprise)\n",
      "  Using cached https://files.pythonhosted.org/packages/cd/c1/50a758e8247561e58cb87305b1e90b171b8c767b15b12a1734001f41d356/joblib-0.13.2-py2.py3-none-any.whl\n",
      "Requirement already satisfied: numpy>=1.11.2 in /anaconda3/lib/python3.7/site-packages (from scikit-surprise->surprise) (1.16.2)\n",
      "Requirement already satisfied: scipy>=1.0.0 in /anaconda3/lib/python3.7/site-packages (from scikit-surprise->surprise) (1.2.1)\n",
      "Requirement already satisfied: six>=1.10.0 in /anaconda3/lib/python3.7/site-packages (from scikit-surprise->surprise) (1.12.0)\n",
      "Building wheels for collected packages: scikit-surprise\n",
      "  Building wheel for scikit-surprise (setup.py) ... \u001b[?25ldone\n",
      "\u001b[?25h  Stored in directory: /Users/flatironschool/Library/Caches/pip/wheels/cc/fa/8c/16c93fccce688ae1bde7d979ff102f7bee980d9cfeb8641bcf\n",
      "Successfully built scikit-surprise\n",
      "Installing collected packages: joblib, scikit-surprise, surprise\n",
      "Successfully installed joblib-0.13.2 scikit-surprise-1.1.0 surprise-0.1\n"
     ]
    }
   ],
   "source": [
    "!pip install surprise"
   ]
  },
  {
   "cell_type": "code",
   "execution_count": 2,
   "metadata": {},
   "outputs": [],
   "source": [
    "# import libraries\n",
    "import numpy as np\n",
    "import pandas as pd\n",
    "\n",
    "from surprise import Dataset, Reader\n",
    "from surprise import SVD\n",
    "from surprise import accuracy\n",
    "from surprise.model_selection import cross_validate, train_test_split"
   ]
  },
  {
   "cell_type": "markdown",
   "metadata": {},
   "source": [
    "### 2. Load in the dataset\n",
    "\n",
    "Surprise has the dataset built in. You might need to download the dataset so follow the instructions in the code output! Unfortunately, the Surprise data format doesn't let us inspect the data, but here is the documentation: https://grouplens.org/datasets/movielens/100k/\n"
   ]
  },
  {
   "cell_type": "code",
   "execution_count": 3,
   "metadata": {},
   "outputs": [
    {
     "name": "stdout",
     "output_type": "stream",
     "text": [
      "Dataset ml-100k could not be found. Do you want to download it? [Y/n] Y\n",
      "Trying to download dataset from http://files.grouplens.org/datasets/movielens/ml-100k.zip...\n",
      "Done! Dataset ml-100k has been saved to /Users/flatironschool/.surprise_data/ml-100k\n"
     ]
    }
   ],
   "source": [
    "data = Dataset.load_builtin('ml-100k')\n",
    "\n",
    "# train-test split\n",
    "train, test = train_test_split(data, test_size=.2)"
   ]
  },
  {
   "cell_type": "code",
   "execution_count": 4,
   "metadata": {},
   "outputs": [
    {
     "data": {
      "text/plain": [
       "<surprise.trainset.Trainset at 0x1185df8d0>"
      ]
     },
     "execution_count": 4,
     "metadata": {},
     "output_type": "execute_result"
    }
   ],
   "source": [
    "train"
   ]
  },
  {
   "cell_type": "markdown",
   "metadata": {},
   "source": [
    "### 3. Run the default Singular Value Decomposition Model!"
   ]
  },
  {
   "cell_type": "code",
   "execution_count": 5,
   "metadata": {},
   "outputs": [],
   "source": [
    "svd = SVD()\n",
    "svd.fit(train)\n",
    "predictions = svd.test(test)"
   ]
  },
  {
   "cell_type": "code",
   "execution_count": 6,
   "metadata": {},
   "outputs": [
    {
     "name": "stdout",
     "output_type": "stream",
     "text": [
      "RMSE: 0.9374\n"
     ]
    },
    {
     "data": {
      "text/plain": [
       "0.9373608644602791"
      ]
     },
     "execution_count": 6,
     "metadata": {},
     "output_type": "execute_result"
    }
   ],
   "source": [
    "accuracy.rmse(predictions)"
   ]
  },
  {
   "cell_type": "markdown",
   "metadata": {},
   "source": [
    "### 4. Make a prediction!"
   ]
  },
  {
   "cell_type": "code",
   "execution_count": 7,
   "metadata": {},
   "outputs": [
    {
     "name": "stdout",
     "output_type": "stream",
     "text": [
      "user: 196        item: 302        r_ui = 4.00   est = 3.84   {'was_impossible': False}\n"
     ]
    }
   ],
   "source": [
    "uid = str(196)  # raw user id (as in the ratings file). They are **strings**!\n",
    "iid = str(302)\n",
    "\n",
    "# get a prediction for specific users and items.\n",
    "pred = svd.predict(uid, iid, r_ui=4, verbose=True)"
   ]
  },
  {
   "cell_type": "markdown",
   "metadata": {},
   "source": [
    "## Applying Surprise\n",
    "\n",
    "### 1. How does Surprise take in your data?\n",
    "https://surprise.readthedocs.io/en/stable/getting_started.html#use-a-custom-dataset\n",
    "\n",
    "The dataset we'll use is a subset of the Yelp Open Dataset that's already been joined and cleaned.\n",
    "https://www.yelp.com/dataset"
   ]
  },
  {
   "cell_type": "code",
   "execution_count": 8,
   "metadata": {},
   "outputs": [],
   "source": [
    "yelp = pd.read_csv('yelp_reviews.csv').drop(['Unnamed: 0'], axis = 1)"
   ]
  },
  {
   "cell_type": "code",
   "execution_count": 9,
   "metadata": {
    "scrolled": true
   },
   "outputs": [
    {
     "data": {
      "text/html": [
       "<div>\n",
       "<style scoped>\n",
       "    .dataframe tbody tr th:only-of-type {\n",
       "        vertical-align: middle;\n",
       "    }\n",
       "\n",
       "    .dataframe tbody tr th {\n",
       "        vertical-align: top;\n",
       "    }\n",
       "\n",
       "    .dataframe thead th {\n",
       "        text-align: right;\n",
       "    }\n",
       "</style>\n",
       "<table border=\"1\" class=\"dataframe\">\n",
       "  <thead>\n",
       "    <tr style=\"text-align: right;\">\n",
       "      <th></th>\n",
       "      <th>user_id</th>\n",
       "      <th>business_id</th>\n",
       "      <th>stars</th>\n",
       "    </tr>\n",
       "  </thead>\n",
       "  <tbody>\n",
       "    <tr>\n",
       "      <th>0</th>\n",
       "      <td>brd33PD_6nqK_VVnO3NWAg</td>\n",
       "      <td>--1UhMGODdWsrMastO9DZw</td>\n",
       "      <td>4.0</td>\n",
       "    </tr>\n",
       "    <tr>\n",
       "      <th>1</th>\n",
       "      <td>NqpKiaRsGfuU2voV5dPRCQ</td>\n",
       "      <td>--1UhMGODdWsrMastO9DZw</td>\n",
       "      <td>1.0</td>\n",
       "    </tr>\n",
       "    <tr>\n",
       "      <th>2</th>\n",
       "      <td>dhzlnpisqA7V1zfiO12AZA</td>\n",
       "      <td>--1UhMGODdWsrMastO9DZw</td>\n",
       "      <td>2.0</td>\n",
       "    </tr>\n",
       "    <tr>\n",
       "      <th>3</th>\n",
       "      <td>A4bpHuvzaQt9-XAg8e9Msw</td>\n",
       "      <td>--1UhMGODdWsrMastO9DZw</td>\n",
       "      <td>3.0</td>\n",
       "    </tr>\n",
       "    <tr>\n",
       "      <th>4</th>\n",
       "      <td>GL81ktDIteXA2VVH6gIakg</td>\n",
       "      <td>--1UhMGODdWsrMastO9DZw</td>\n",
       "      <td>5.0</td>\n",
       "    </tr>\n",
       "  </tbody>\n",
       "</table>\n",
       "</div>"
      ],
      "text/plain": [
       "                  user_id             business_id  stars\n",
       "0  brd33PD_6nqK_VVnO3NWAg  --1UhMGODdWsrMastO9DZw    4.0\n",
       "1  NqpKiaRsGfuU2voV5dPRCQ  --1UhMGODdWsrMastO9DZw    1.0\n",
       "2  dhzlnpisqA7V1zfiO12AZA  --1UhMGODdWsrMastO9DZw    2.0\n",
       "3  A4bpHuvzaQt9-XAg8e9Msw  --1UhMGODdWsrMastO9DZw    3.0\n",
       "4  GL81ktDIteXA2VVH6gIakg  --1UhMGODdWsrMastO9DZw    5.0"
      ]
     },
     "execution_count": 9,
     "metadata": {},
     "output_type": "execute_result"
    }
   ],
   "source": [
    "yelp.head()"
   ]
  },
  {
   "cell_type": "markdown",
   "metadata": {},
   "source": [
    "### 2. Inspecting the dataset:\n",
    "\n",
    "Here's where you'd do a **comprehensive** EDA!"
   ]
  },
  {
   "cell_type": "code",
   "execution_count": 10,
   "metadata": {
    "scrolled": true
   },
   "outputs": [
    {
     "name": "stdout",
     "output_type": "stream",
     "text": [
      "Number of Users:  79773\n",
      "Number of Businesses:  2518\n"
     ]
    }
   ],
   "source": [
    "print('Number of Users: ', len(yelp['user_id'].unique()))\n",
    "print('Number of Businesses: ', len(yelp['business_id'].unique()))"
   ]
  },
  {
   "cell_type": "markdown",
   "metadata": {},
   "source": [
    "1. What's the distribution of ratings? i.e. How many 1-star, 2-star, 3-star reviews?\n",
    "2. How many reviews does a restaurant have?\n",
    "3. How many reviews does a user make?"
   ]
  },
  {
   "cell_type": "code",
   "execution_count": 11,
   "metadata": {},
   "outputs": [
    {
     "data": {
      "text/plain": [
       "5.0    42685\n",
       "4.0    23143\n",
       "1.0    14315\n",
       "3.0    11522\n",
       "2.0     8335\n",
       "Name: stars, dtype: int64"
      ]
     },
     "execution_count": 11,
     "metadata": {},
     "output_type": "execute_result"
    }
   ],
   "source": [
    "yelp['stars'].value_counts()"
   ]
  },
  {
   "cell_type": "code",
   "execution_count": 12,
   "metadata": {},
   "outputs": [
    {
     "data": {
      "text/plain": [
       "-ed0Yc9on37RoIoG2ZgxBA    1694\n",
       "--9e1ONYQuAa-CB_Rrw7Tw    1661\n",
       "-6tvduBzjLI1ISfs3F_qTg    1194\n",
       "-U7tvCtaraTQ9b0zBhpBMA    1180\n",
       "-FLnsWAa4AGEW4NgE8Fqew    1128\n",
       "-Eu04UHRqmGGyvYRDY8-tg     940\n",
       "-av1lZI1JDY_RZN2eTMnWg     903\n",
       "-kG0N8sBhBotMbu0KVSPaw     882\n",
       "-WLrZPzjKfrftLWaCi1QZQ     866\n",
       "-Ht7HiGBox8lS1Y8IPjO8g     865\n",
       "-IWsoxH7mLJTTpU5MmWY4w     853\n",
       "-ZBfr1BHvArFp1d6XH8jOQ     808\n",
       "-oUM2uISux96lMGeawHIOA     795\n",
       "-kIscN8I29eXMPkvyyxmRQ     793\n",
       "-95mbLJsa0CxXhpaNL4LvA     736\n",
       "-050d_XIor1NpCuWkbIVaQ     725\n",
       "-bd4BQcl1ekgo7avaFngIw     679\n",
       "-Ylpy3VyRWwubf9dysuwjQ     677\n",
       "-FtngCwHCD2tRlH8jpj_Ag     664\n",
       "-3zffZUHoY8bQjGfPSoBKQ     653\n",
       "-9dmhyBvepc08KPEHlEM0w     638\n",
       "-Bdw-5H5C4AYSMGnAvmnzw     638\n",
       "-fiUXzkxRfbHY9TKWwuptw     623\n",
       "-o082vExIs0VVNSuZmiTQA     577\n",
       "-bMZCfTK7fxFaURynKpBMA     572\n",
       "-6h3K1hj0d4DRcZNUtHDuw     552\n",
       "-7H-oXvCxJzuT42ky6Db0g     550\n",
       "-a857YYdjzgOdOjFFRsRXQ     549\n",
       "-Dnh48f029YNugtMKkkI-Q     541\n",
       "-C8S2OPEOI1fL-2Q41tWVA     515\n",
       "                          ... \n",
       "-eFCQnOXK2AStH2WFAcuXw       3\n",
       "-gDd7mxDl0EcrLi_AwkODg       3\n",
       "-S6aKAgGQID05fgyLJBfrA       3\n",
       "-MNXoj8BtQjron3sRxeGAw       3\n",
       "-Lq6mvXJ5-JObqlUmFAyOg       3\n",
       "-CJ_Hlfmw6Fyp2_MhSi8kw       3\n",
       "-JLVl48SdviMaWLzHT9KeQ       3\n",
       "-RwnEdrn3ZdW1yug_CBmLg       3\n",
       "-nNcMOJMYP2jAovGV59i1g       3\n",
       "-MmBTNSCabseXZG8cuU64Q       3\n",
       "-FlDEBlxbnBHG7PHbrBjpQ       3\n",
       "-DzqnAgeAA1vnLEYp5ju3A       3\n",
       "-atM342fpLyVYlTDArNqaQ       3\n",
       "-1oGM0x0i7I88C9g9w8XUw       3\n",
       "-SBYU-U8F7GQT58y_U0lSA       3\n",
       "-0FA-Qdi3SPYIoJz9UQw-A       3\n",
       "-Yh1VCfI0LQ4RDHfAWosIA       3\n",
       "-0KMvRFwDWdVBeTpT11iHw       3\n",
       "-RLQLpN2csDej0o9d4kFrw       3\n",
       "-17Uz92KtnWOpeEGVvg17g       3\n",
       "-o4pzI-7ceXt8oWMd9nmcg       3\n",
       "-Ix1tCwmfW0fNjAnSWhSRw       3\n",
       "-iJTY1Ni2XKzSERbMP5kJQ       3\n",
       "-7xsaBRgF27HgqXLYoCENQ       3\n",
       "-MWC_QuOCSOXlJ9G2ohZMA       3\n",
       "-Qw0PpNfOQ94LpSbxH-fcg       3\n",
       "-VDPI0sa2tbL3mk6-juAXg       3\n",
       "-Gg1YBUAseVfNYb7d_9uDQ       3\n",
       "-oxCk2IIY132_7EDweDOLw       3\n",
       "-Bi--wdK6k_2ak-KVqzpsw       3\n",
       "Name: business_id, Length: 2518, dtype: int64"
      ]
     },
     "execution_count": 12,
     "metadata": {},
     "output_type": "execute_result"
    }
   ],
   "source": [
    "yelp['business_id'].value_counts()"
   ]
  },
  {
   "cell_type": "code",
   "execution_count": 13,
   "metadata": {},
   "outputs": [
    {
     "data": {
      "text/plain": [
       "CxDOIDnH8gp9KXzpBHJYXw    50\n",
       "U4INQZOPSUaj8hMjLlZ3KA    33\n",
       "bLbSNkLggFnqwNNzzq-Ijw    31\n",
       "QJI9OSEn6ujRCtrX06vs1w    27\n",
       "DK57YibC5ShBmqQl97CKog    27\n",
       "PKEzKWv_FktMm2mGPjwd0Q    24\n",
       "M9rRM6Eo5YbKLKMG5QiIPA    24\n",
       "j6wLUT0ZXi-x0otelYIFpA    23\n",
       "dIIKEfOgo0KqUfGQvGikPg    22\n",
       "rCWrxuRC8_pfagpchtHp6A    22\n",
       "iDlkZO2iILS8Jwfdy7DP9A    22\n",
       "24AzZDQKHySwMQR7VQVCAg    21\n",
       "JnPIjvC0cmooNDfsa9BmXg    21\n",
       "d_TBs6J3twMy9GChqUEXkg    21\n",
       "U5YQX_vMl_xQy8EQDqlNQQ    21\n",
       "UYcmGbelzRa0Q6JqzLoguw    20\n",
       "cMEtAiW60I5wE_vLfTxoJQ    20\n",
       "MMf0LhEk5tGa1LvN7zcDnA    20\n",
       "N3oNEwh0qgPqPP3Em6wJXw    20\n",
       "pMefTWo6gMdx8WhYSA2u3w    20\n",
       "n86B7IkbU20AkxlFX_5aew    20\n",
       "orh0HRUNCWuQMt9Iia_osg    19\n",
       "YRcaNlwQ6XXPFDXWtuMGdA    18\n",
       "hWDybu_KvYLSdEFzGrniTw    18\n",
       "TbhyP24zYZqZ2VJZgu1wrg    18\n",
       "Ry1O_KXZHGRI8g5zBR3IcQ    18\n",
       "sTcYq6goD1Fa2WS9MSkSvQ    17\n",
       "V-BbqKqO8anwplGRx9Q5aQ    17\n",
       "ahwwAXJ_qwGmuRjTOHHMWg    17\n",
       "ELcQDlf69kb-ihJfxZyL0A    17\n",
       "                          ..\n",
       "m3RVJCpWo9_IYJtUE4vaOA     1\n",
       "STYv8SLQUsvwpukMYTbWQQ     1\n",
       "jD0pSELHS1ACiq2vDIKXqw     1\n",
       "oIYC5vXouiON5lwBYhS3sg     1\n",
       "vtXoV-9v-dnZvj8LyVcMKQ     1\n",
       "I1cssFaAExjNYqbbaOPrYg     1\n",
       "mgX7RiyezBMCTMIhNhUfaw     1\n",
       "g5097fg76grH-qr4x0MYZg     1\n",
       "Vn2e7AE8U0n2AhuAemDIAw     1\n",
       "JNpDUkX5DGMvru_Ayoql1w     1\n",
       "v2A-H2ekaXTB6bv-SNi7sg     1\n",
       "FSl6qeRIu7kPQfZpBl1Npg     1\n",
       "TNgbPyW7M-X7RsZQj5PZLw     1\n",
       "WYdpKxX8m9I8jHvsvpZYzg     1\n",
       "Z4eSGuA8oj2QMsW8Ezc5Rg     1\n",
       "_MYAzzeHgA7BtyG66AIF6A     1\n",
       "eBD_qOdxC27PULLJhdYVCQ     1\n",
       "l1F50dpnU-7azJ5V4sf9BA     1\n",
       "If8ewapDotCa1tev661lSg     1\n",
       "ubF5zarbyXJVMTOZrSUFyQ     1\n",
       "jQHQ_09r-QK7TTjNFi8YeQ     1\n",
       "LEv3nLXCaj5NO5A7LRhSGA     1\n",
       "6RJf5xb_swFrKrsaQ0WQAw     1\n",
       "RaqaRvK2VEnh2SWipHZs9Q     1\n",
       "s0LPEy_QDv1nYe3n6sQcaw     1\n",
       "FthNDWp7IO_LjTaFNlntpA     1\n",
       "EMb2VYyw5C4gVBMoX347vA     1\n",
       "Ha6leZ2S238vuN0bwobk_Q     1\n",
       "FCvTMUJr38UcF8dY4lgihQ     1\n",
       "AiJrJO0VdQIhVI6fLQobEQ     1\n",
       "Name: user_id, Length: 79773, dtype: int64"
      ]
     },
     "execution_count": 13,
     "metadata": {},
     "output_type": "execute_result"
    }
   ],
   "source": [
    "yelp['user_id'].value_counts()"
   ]
  },
  {
   "cell_type": "markdown",
   "metadata": {},
   "source": [
    "### 3. Reading in the dataset and prepping data"
   ]
  },
  {
   "cell_type": "code",
   "execution_count": 14,
   "metadata": {},
   "outputs": [],
   "source": [
    "# Instantiate a 'Reader' to read in the data so Surprise can use it\n",
    "reader = Reader(rating_scale=(1, 5))\n",
    "\n",
    "# The columns must correspond to user id, item id and ratings (in that order).\n",
    "data = Dataset.load_from_df(yelp[['user_id', 'business_id', 'stars']], reader)"
   ]
  },
  {
   "cell_type": "code",
   "execution_count": 15,
   "metadata": {},
   "outputs": [],
   "source": [
    "trainset, testset = train_test_split(data, test_size=.2)"
   ]
  },
  {
   "cell_type": "code",
   "execution_count": 16,
   "metadata": {},
   "outputs": [
    {
     "data": {
      "text/plain": [
       "<surprise.trainset.Trainset at 0x108d335c0>"
      ]
     },
     "execution_count": 16,
     "metadata": {},
     "output_type": "execute_result"
    }
   ],
   "source": [
    "trainset"
   ]
  },
  {
   "cell_type": "markdown",
   "metadata": {},
   "source": [
    "### 4. Fitting and evaluating models\n",
    "Here, let's assume that we've tuned all these hyperparameters using GridSearch, and we've arrived at our final model."
   ]
  },
  {
   "cell_type": "code",
   "execution_count": 17,
   "metadata": {},
   "outputs": [],
   "source": [
    "final = SVD(n_epochs=20, n_factors=1, biased=True, \n",
    "              lr_all=0.005, reg_all=0.06)"
   ]
  },
  {
   "cell_type": "code",
   "execution_count": 18,
   "metadata": {},
   "outputs": [
    {
     "data": {
      "text/plain": [
       "<surprise.prediction_algorithms.matrix_factorization.SVD at 0x118875080>"
      ]
     },
     "execution_count": 18,
     "metadata": {},
     "output_type": "execute_result"
    }
   ],
   "source": [
    "final.fit(trainset)"
   ]
  },
  {
   "cell_type": "code",
   "execution_count": 19,
   "metadata": {},
   "outputs": [],
   "source": [
    "predictions = final.test(testset)"
   ]
  },
  {
   "cell_type": "code",
   "execution_count": 20,
   "metadata": {},
   "outputs": [
    {
     "data": {
      "text/plain": [
       "[Prediction(uid='TKKxAwSEIAUeJMqCyLrgXg', iid='-kIscN8I29eXMPkvyyxmRQ', r_ui=5.0, est=4.575459445755019, details={'was_impossible': False}),\n",
       " Prediction(uid='m_K_mo9Q77ukGbGkKVqj-g', iid='-ZM7SswolaaD_PkyvaXLnA', r_ui=4.0, est=3.772818237240623, details={'was_impossible': False}),\n",
       " Prediction(uid='7wGTMPackQGJW0sVPdVKUA', iid='-K3kqmykKlhlB4arCsLHOw', r_ui=1.0, est=3.051058036790982, details={'was_impossible': False})]"
      ]
     },
     "execution_count": 20,
     "metadata": {},
     "output_type": "execute_result"
    }
   ],
   "source": [
    "predictions[:3]"
   ]
  },
  {
   "cell_type": "code",
   "execution_count": 21,
   "metadata": {
    "scrolled": true
   },
   "outputs": [
    {
     "name": "stdout",
     "output_type": "stream",
     "text": [
      "RMSE: 1.3031\n",
      "MAE:  1.0566\n"
     ]
    },
    {
     "data": {
      "text/plain": [
       "1.056648031571325"
      ]
     },
     "execution_count": 21,
     "metadata": {},
     "output_type": "execute_result"
    }
   ],
   "source": [
    "accuracy.rmse(predictions)\n",
    "accuracy.mae(predictions)"
   ]
  },
  {
   "cell_type": "markdown",
   "metadata": {},
   "source": [
    "### 5. Making Predictions (again)\n",
    "Unfortunately, this dataset has a convoluted string as the user/business IDs."
   ]
  },
  {
   "cell_type": "code",
   "execution_count": 22,
   "metadata": {},
   "outputs": [
    {
     "data": {
      "text/plain": [
       "'HPtjvIrhzAUkKsiVkeT4MA'"
      ]
     },
     "execution_count": 22,
     "metadata": {},
     "output_type": "execute_result"
    }
   ],
   "source": [
    "yelp['user_id'][55]"
   ]
  },
  {
   "cell_type": "code",
   "execution_count": 23,
   "metadata": {},
   "outputs": [
    {
     "data": {
      "text/plain": [
       "'--7zmmkVg-IMGaXbuVd0SQ'"
      ]
     },
     "execution_count": 23,
     "metadata": {},
     "output_type": "execute_result"
    }
   ],
   "source": [
    "yelp['business_id'][123]"
   ]
  },
  {
   "cell_type": "code",
   "execution_count": 24,
   "metadata": {
    "scrolled": true
   },
   "outputs": [
    {
     "data": {
      "text/plain": [
       "Prediction(uid='HPtjvIrhzAUkKsiVkeT4MA', iid='--1UhMGODdWsrMastO9DZw', r_ui=None, est=3.867501798439224, details={'was_impossible': False})"
      ]
     },
     "execution_count": 24,
     "metadata": {},
     "output_type": "execute_result"
    }
   ],
   "source": [
    "final.predict(yelp['user_id'][55], yelp['business_id'][13])"
   ]
  },
  {
   "cell_type": "markdown",
   "metadata": {},
   "source": [
    "### 6. What else?\n",
    "\n",
    "Surprise has sample code where you can get the top **n** recommended items for a user. https://surprise.readthedocs.io/en/stable/FAQ.html"
   ]
  },
  {
   "cell_type": "markdown",
   "metadata": {},
   "source": [
    "# Resources"
   ]
  },
  {
   "cell_type": "markdown",
   "metadata": {},
   "source": [
    "- The structure of our lesson on recommendation engines is based on Chapter 9 of **Mining of Massive Datasets**: http://infolab.stanford.edu/~ullman/mmds/book.pdf\n",
    "- Libraries for coding recommendation engines: \n",
    "    - Surprise: https://surprise.readthedocs.io/en/stable/index.html\n",
    "    - LightFM: https://lyst.github.io/lightfm/docs/index.html\n",
    "    \n",
    "    \n",
    "- Some blogs I might've written:\n",
    "    - Overview: https://towardsdatascience.com/a-primer-to-recommendation-engines-49bd12ed849f?source=friends_link&sk=279dfeec5187614b37431dab167fd4e3\n",
    "    - Collaborative filtering: https://towardsdatascience.com/a-primer-to-recommendation-engines-49bd12ed849f?source=friends_link&sk=279dfeec5187614b37431dab167fd4e3"
   ]
  }
 ],
 "metadata": {
  "kernelspec": {
   "display_name": "Python 3",
   "language": "python",
   "name": "python3"
  },
  "language_info": {
   "codemirror_mode": {
    "name": "ipython",
    "version": 3
   },
   "file_extension": ".py",
   "mimetype": "text/x-python",
   "name": "python",
   "nbconvert_exporter": "python",
   "pygments_lexer": "ipython3",
   "version": "3.7.3"
  },
  "toc": {
   "base_numbering": 1,
   "nav_menu": {},
   "number_sections": false,
   "sideBar": true,
   "skip_h1_title": false,
   "title_cell": "Table of Contents",
   "title_sidebar": "Contents",
   "toc_cell": false,
   "toc_position": {},
   "toc_section_display": true,
   "toc_window_display": false
  }
 },
 "nbformat": 4,
 "nbformat_minor": 2
}
