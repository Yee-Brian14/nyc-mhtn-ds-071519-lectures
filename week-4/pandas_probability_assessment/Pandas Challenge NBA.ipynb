{
 "cells": [
  {
   "cell_type": "code",
   "execution_count": 316,
   "metadata": {},
   "outputs": [],
   "source": [
    "import json\n",
    "import pandas as pd\n",
    "import numpy as np"
   ]
  },
  {
   "cell_type": "markdown",
   "metadata": {},
   "source": [
    "# Part 1: Reading and investigating data\n",
    "\n",
    "Open up the `player_data.json` and investigate the data structure."
   ]
  },
  {
   "cell_type": "code",
   "execution_count": 2,
   "metadata": {},
   "outputs": [],
   "source": [
    "#your code here\n",
    "data = json.load(open('player_data.json'))"
   ]
  },
  {
   "cell_type": "markdown",
   "metadata": {},
   "source": [
    "# Part 2:  Creating the Dataframe\n",
    "\n",
    "Create a data frame where each row corresponds to a game for each player. You must have atleast the following columns in your final dataframe:\n",
    "\n",
    "'DISPLAY_FIRST_LAST', 'PERSON_ID', 'TEAM_ID', 'AST', 'BLK', 'STL','Game_ID',  'MIN', 'PTS', 'REB', 'TEAM_ABBREVIATION'\n",
    "\n",
    "*You can include additional columns in your dataframe, so you don't have to do additional work to remove other columns.*  "
   ]
  },
  {
   "cell_type": "code",
   "execution_count": 4,
   "metadata": {},
   "outputs": [],
   "source": [
    "df = pd.DataFrame()\n",
    "\n",
    "for person in data:\n",
    "    if len(person['GAMELOG']) == 0:\n",
    "        continue\n",
    "    df1 = pd.DataFrame(person, columns=['DISPLAY_FIRST_LAST', 'PERSON_ID', 'TEAM_ID'], index=[0])\n",
    "    df2 = pd.DataFrame(person['GAMELOG'])\n",
    "    merged = pd.merge(df1, df2, left_on='PERSON_ID', right_on='Player_ID', how='outer')\n",
    "    df = pd.concat([df, merged])\n",
    "    \n",
    "df.reset_index(drop=True, inplace=True)"
   ]
  },
  {
   "cell_type": "code",
   "execution_count": 474,
   "metadata": {},
   "outputs": [
    {
     "data": {
      "text/html": [
       "<div>\n",
       "<style scoped>\n",
       "    .dataframe tbody tr th:only-of-type {\n",
       "        vertical-align: middle;\n",
       "    }\n",
       "\n",
       "    .dataframe tbody tr th {\n",
       "        vertical-align: top;\n",
       "    }\n",
       "\n",
       "    .dataframe thead th {\n",
       "        text-align: right;\n",
       "    }\n",
       "</style>\n",
       "<table border=\"1\" class=\"dataframe\">\n",
       "  <thead>\n",
       "    <tr style=\"text-align: right;\">\n",
       "      <th></th>\n",
       "      <th>DISPLAY_FIRST_LAST</th>\n",
       "      <th>PERSON_ID</th>\n",
       "      <th>TEAM_ID_x</th>\n",
       "      <th>AST</th>\n",
       "      <th>BLK</th>\n",
       "      <th>DREB</th>\n",
       "      <th>FG3A</th>\n",
       "      <th>FG3M</th>\n",
       "      <th>FG3_PCT</th>\n",
       "      <th>FGA</th>\n",
       "      <th>...</th>\n",
       "      <th>PTS</th>\n",
       "      <th>Player_ID</th>\n",
       "      <th>REB</th>\n",
       "      <th>SEASON_ID</th>\n",
       "      <th>STL</th>\n",
       "      <th>TEAM_ABBREVIATION</th>\n",
       "      <th>TEAM_ID_y</th>\n",
       "      <th>TOV</th>\n",
       "      <th>VIDEO_AVAILABLE</th>\n",
       "      <th>WL</th>\n",
       "    </tr>\n",
       "  </thead>\n",
       "  <tbody>\n",
       "    <tr>\n",
       "      <th>0</th>\n",
       "      <td>Alex Abrines</td>\n",
       "      <td>203518</td>\n",
       "      <td>0</td>\n",
       "      <td>0</td>\n",
       "      <td>0</td>\n",
       "      <td>0</td>\n",
       "      <td>1</td>\n",
       "      <td>0</td>\n",
       "      <td>0.000</td>\n",
       "      <td>2</td>\n",
       "      <td>...</td>\n",
       "      <td>0</td>\n",
       "      <td>203518</td>\n",
       "      <td>0</td>\n",
       "      <td>22018</td>\n",
       "      <td>0</td>\n",
       "      <td>OKC</td>\n",
       "      <td>1610612760</td>\n",
       "      <td>0</td>\n",
       "      <td>1</td>\n",
       "      <td>W</td>\n",
       "    </tr>\n",
       "    <tr>\n",
       "      <th>1</th>\n",
       "      <td>Alex Abrines</td>\n",
       "      <td>203518</td>\n",
       "      <td>0</td>\n",
       "      <td>0</td>\n",
       "      <td>0</td>\n",
       "      <td>1</td>\n",
       "      <td>2</td>\n",
       "      <td>1</td>\n",
       "      <td>0.500</td>\n",
       "      <td>2</td>\n",
       "      <td>...</td>\n",
       "      <td>3</td>\n",
       "      <td>203518</td>\n",
       "      <td>1</td>\n",
       "      <td>22018</td>\n",
       "      <td>0</td>\n",
       "      <td>OKC</td>\n",
       "      <td>1610612760</td>\n",
       "      <td>0</td>\n",
       "      <td>1</td>\n",
       "      <td>W</td>\n",
       "    </tr>\n",
       "    <tr>\n",
       "      <th>2</th>\n",
       "      <td>Alex Abrines</td>\n",
       "      <td>203518</td>\n",
       "      <td>0</td>\n",
       "      <td>0</td>\n",
       "      <td>2</td>\n",
       "      <td>1</td>\n",
       "      <td>5</td>\n",
       "      <td>1</td>\n",
       "      <td>0.200</td>\n",
       "      <td>6</td>\n",
       "      <td>...</td>\n",
       "      <td>7</td>\n",
       "      <td>203518</td>\n",
       "      <td>1</td>\n",
       "      <td>22018</td>\n",
       "      <td>0</td>\n",
       "      <td>OKC</td>\n",
       "      <td>1610612760</td>\n",
       "      <td>0</td>\n",
       "      <td>1</td>\n",
       "      <td>L</td>\n",
       "    </tr>\n",
       "    <tr>\n",
       "      <th>3</th>\n",
       "      <td>Alex Abrines</td>\n",
       "      <td>203518</td>\n",
       "      <td>0</td>\n",
       "      <td>0</td>\n",
       "      <td>0</td>\n",
       "      <td>1</td>\n",
       "      <td>4</td>\n",
       "      <td>2</td>\n",
       "      <td>0.500</td>\n",
       "      <td>4</td>\n",
       "      <td>...</td>\n",
       "      <td>6</td>\n",
       "      <td>203518</td>\n",
       "      <td>1</td>\n",
       "      <td>22018</td>\n",
       "      <td>0</td>\n",
       "      <td>OKC</td>\n",
       "      <td>1610612760</td>\n",
       "      <td>0</td>\n",
       "      <td>1</td>\n",
       "      <td>W</td>\n",
       "    </tr>\n",
       "    <tr>\n",
       "      <th>4</th>\n",
       "      <td>Alex Abrines</td>\n",
       "      <td>203518</td>\n",
       "      <td>0</td>\n",
       "      <td>1</td>\n",
       "      <td>0</td>\n",
       "      <td>1</td>\n",
       "      <td>7</td>\n",
       "      <td>3</td>\n",
       "      <td>0.429</td>\n",
       "      <td>7</td>\n",
       "      <td>...</td>\n",
       "      <td>9</td>\n",
       "      <td>203518</td>\n",
       "      <td>1</td>\n",
       "      <td>22018</td>\n",
       "      <td>0</td>\n",
       "      <td>OKC</td>\n",
       "      <td>1610612760</td>\n",
       "      <td>0</td>\n",
       "      <td>1</td>\n",
       "      <td>W</td>\n",
       "    </tr>\n",
       "  </tbody>\n",
       "</table>\n",
       "<p>5 rows × 32 columns</p>\n",
       "</div>"
      ],
      "text/plain": [
       "  DISPLAY_FIRST_LAST  PERSON_ID  TEAM_ID_x  AST  BLK  DREB  FG3A  FG3M  \\\n",
       "0       Alex Abrines     203518          0    0    0     0     1     0   \n",
       "1       Alex Abrines     203518          0    0    0     1     2     1   \n",
       "2       Alex Abrines     203518          0    0    2     1     5     1   \n",
       "3       Alex Abrines     203518          0    0    0     1     4     2   \n",
       "4       Alex Abrines     203518          0    1    0     1     7     3   \n",
       "\n",
       "   FG3_PCT  FGA  ...  PTS  Player_ID  REB  SEASON_ID  STL TEAM_ABBREVIATION  \\\n",
       "0    0.000    2  ...    0     203518    0      22018    0               OKC   \n",
       "1    0.500    2  ...    3     203518    1      22018    0               OKC   \n",
       "2    0.200    6  ...    7     203518    1      22018    0               OKC   \n",
       "3    0.500    4  ...    6     203518    1      22018    0               OKC   \n",
       "4    0.429    7  ...    9     203518    1      22018    0               OKC   \n",
       "\n",
       "    TEAM_ID_y TOV  VIDEO_AVAILABLE  WL  \n",
       "0  1610612760   0                1   W  \n",
       "1  1610612760   0                1   W  \n",
       "2  1610612760   0                1   L  \n",
       "3  1610612760   0                1   W  \n",
       "4  1610612760   0                1   W  \n",
       "\n",
       "[5 rows x 32 columns]"
      ]
     },
     "execution_count": 474,
     "metadata": {},
     "output_type": "execute_result"
    }
   ],
   "source": [
    "df.head()"
   ]
  },
  {
   "cell_type": "markdown",
   "metadata": {},
   "source": [
    "# Part 3: Pandas Questions\n",
    "\n",
    "Answer the following questions"
   ]
  },
  {
   "cell_type": "markdown",
   "metadata": {},
   "source": [
    "## 1 \n",
    "- Find the player who scored the most points in an individual game last season.\n",
    "\n",
    "-  Now do the same for rebounds, blocks, and assists."
   ]
  },
  {
   "cell_type": "code",
   "execution_count": 7,
   "metadata": {},
   "outputs": [
    {
     "data": {
      "text/html": [
       "<div>\n",
       "<style scoped>\n",
       "    .dataframe tbody tr th:only-of-type {\n",
       "        vertical-align: middle;\n",
       "    }\n",
       "\n",
       "    .dataframe tbody tr th {\n",
       "        vertical-align: top;\n",
       "    }\n",
       "\n",
       "    .dataframe thead th {\n",
       "        text-align: right;\n",
       "    }\n",
       "</style>\n",
       "<table border=\"1\" class=\"dataframe\">\n",
       "  <thead>\n",
       "    <tr style=\"text-align: right;\">\n",
       "      <th></th>\n",
       "      <th>DISPLAY_FIRST_LAST</th>\n",
       "      <th>PERSON_ID</th>\n",
       "      <th>TEAM_ID_x</th>\n",
       "      <th>AST</th>\n",
       "      <th>BLK</th>\n",
       "      <th>DREB</th>\n",
       "      <th>FG3A</th>\n",
       "      <th>FG3M</th>\n",
       "      <th>FG3_PCT</th>\n",
       "      <th>FGA</th>\n",
       "      <th>...</th>\n",
       "      <th>PTS</th>\n",
       "      <th>Player_ID</th>\n",
       "      <th>REB</th>\n",
       "      <th>SEASON_ID</th>\n",
       "      <th>STL</th>\n",
       "      <th>TEAM_ABBREVIATION</th>\n",
       "      <th>TEAM_ID_y</th>\n",
       "      <th>TOV</th>\n",
       "      <th>VIDEO_AVAILABLE</th>\n",
       "      <th>WL</th>\n",
       "    </tr>\n",
       "  </thead>\n",
       "  <tbody>\n",
       "    <tr>\n",
       "      <th>10323</th>\n",
       "      <td>James Harden</td>\n",
       "      <td>201935</td>\n",
       "      <td>1610612745</td>\n",
       "      <td>1</td>\n",
       "      <td>0</td>\n",
       "      <td>5</td>\n",
       "      <td>13</td>\n",
       "      <td>9</td>\n",
       "      <td>0.692</td>\n",
       "      <td>34</td>\n",
       "      <td>...</td>\n",
       "      <td>61</td>\n",
       "      <td>201935</td>\n",
       "      <td>7</td>\n",
       "      <td>22018</td>\n",
       "      <td>3</td>\n",
       "      <td>HOU</td>\n",
       "      <td>1610612745</td>\n",
       "      <td>3</td>\n",
       "      <td>1</td>\n",
       "      <td>W</td>\n",
       "    </tr>\n",
       "    <tr>\n",
       "      <th>10348</th>\n",
       "      <td>James Harden</td>\n",
       "      <td>201935</td>\n",
       "      <td>1610612745</td>\n",
       "      <td>4</td>\n",
       "      <td>0</td>\n",
       "      <td>9</td>\n",
       "      <td>20</td>\n",
       "      <td>5</td>\n",
       "      <td>0.250</td>\n",
       "      <td>38</td>\n",
       "      <td>...</td>\n",
       "      <td>61</td>\n",
       "      <td>201935</td>\n",
       "      <td>15</td>\n",
       "      <td>22018</td>\n",
       "      <td>5</td>\n",
       "      <td>HOU</td>\n",
       "      <td>1610612745</td>\n",
       "      <td>5</td>\n",
       "      <td>1</td>\n",
       "      <td>W</td>\n",
       "    </tr>\n",
       "  </tbody>\n",
       "</table>\n",
       "<p>2 rows × 32 columns</p>\n",
       "</div>"
      ],
      "text/plain": [
       "      DISPLAY_FIRST_LAST  PERSON_ID   TEAM_ID_x  AST  BLK  DREB  FG3A  FG3M  \\\n",
       "10323       James Harden     201935  1610612745    1    0     5    13     9   \n",
       "10348       James Harden     201935  1610612745    4    0     9    20     5   \n",
       "\n",
       "       FG3_PCT  FGA  ...  PTS  Player_ID  REB  SEASON_ID  STL  \\\n",
       "10323    0.692   34  ...   61     201935    7      22018    3   \n",
       "10348    0.250   38  ...   61     201935   15      22018    5   \n",
       "\n",
       "      TEAM_ABBREVIATION   TEAM_ID_y TOV  VIDEO_AVAILABLE  WL  \n",
       "10323               HOU  1610612745   3                1   W  \n",
       "10348               HOU  1610612745   5                1   W  \n",
       "\n",
       "[2 rows x 32 columns]"
      ]
     },
     "execution_count": 7,
     "metadata": {},
     "output_type": "execute_result"
    }
   ],
   "source": [
    "# Your code here\n",
    "df[df['PTS']==df['PTS'].max()]"
   ]
  },
  {
   "cell_type": "code",
   "execution_count": 8,
   "metadata": {
    "collapsed": true
   },
   "outputs": [
    {
     "data": {
      "text/html": [
       "<div>\n",
       "<style scoped>\n",
       "    .dataframe tbody tr th:only-of-type {\n",
       "        vertical-align: middle;\n",
       "    }\n",
       "\n",
       "    .dataframe tbody tr th {\n",
       "        vertical-align: top;\n",
       "    }\n",
       "\n",
       "    .dataframe thead th {\n",
       "        text-align: right;\n",
       "    }\n",
       "</style>\n",
       "<table border=\"1\" class=\"dataframe\">\n",
       "  <thead>\n",
       "    <tr style=\"text-align: right;\">\n",
       "      <th></th>\n",
       "      <th>DISPLAY_FIRST_LAST</th>\n",
       "      <th>PERSON_ID</th>\n",
       "      <th>TEAM_ID_x</th>\n",
       "      <th>AST</th>\n",
       "      <th>BLK</th>\n",
       "      <th>DREB</th>\n",
       "      <th>FG3A</th>\n",
       "      <th>FG3M</th>\n",
       "      <th>FG3_PCT</th>\n",
       "      <th>FGA</th>\n",
       "      <th>...</th>\n",
       "      <th>PTS</th>\n",
       "      <th>Player_ID</th>\n",
       "      <th>REB</th>\n",
       "      <th>SEASON_ID</th>\n",
       "      <th>STL</th>\n",
       "      <th>TEAM_ABBREVIATION</th>\n",
       "      <th>TEAM_ID_y</th>\n",
       "      <th>TOV</th>\n",
       "      <th>VIDEO_AVAILABLE</th>\n",
       "      <th>WL</th>\n",
       "    </tr>\n",
       "  </thead>\n",
       "  <tbody>\n",
       "    <tr>\n",
       "      <th>23773</th>\n",
       "      <td>Karl-Anthony Towns</td>\n",
       "      <td>1626157</td>\n",
       "      <td>1610612750</td>\n",
       "      <td>3</td>\n",
       "      <td>4</td>\n",
       "      <td>18</td>\n",
       "      <td>8</td>\n",
       "      <td>3</td>\n",
       "      <td>0.375</td>\n",
       "      <td>23</td>\n",
       "      <td>...</td>\n",
       "      <td>27</td>\n",
       "      <td>1626157</td>\n",
       "      <td>27</td>\n",
       "      <td>22018</td>\n",
       "      <td>2</td>\n",
       "      <td>MIN</td>\n",
       "      <td>1610612750</td>\n",
       "      <td>3</td>\n",
       "      <td>1</td>\n",
       "      <td>W</td>\n",
       "    </tr>\n",
       "  </tbody>\n",
       "</table>\n",
       "<p>1 rows × 32 columns</p>\n",
       "</div>"
      ],
      "text/plain": [
       "       DISPLAY_FIRST_LAST  PERSON_ID   TEAM_ID_x  AST  BLK  DREB  FG3A  FG3M  \\\n",
       "23773  Karl-Anthony Towns    1626157  1610612750    3    4    18     8     3   \n",
       "\n",
       "       FG3_PCT  FGA  ...  PTS  Player_ID  REB  SEASON_ID  STL  \\\n",
       "23773    0.375   23  ...   27    1626157   27      22018    2   \n",
       "\n",
       "      TEAM_ABBREVIATION   TEAM_ID_y TOV  VIDEO_AVAILABLE  WL  \n",
       "23773               MIN  1610612750   3                1   W  \n",
       "\n",
       "[1 rows x 32 columns]"
      ]
     },
     "execution_count": 8,
     "metadata": {},
     "output_type": "execute_result"
    }
   ],
   "source": [
    "df[df['REB']==df['REB'].max()]"
   ]
  },
  {
   "cell_type": "code",
   "execution_count": 9,
   "metadata": {
    "collapsed": true
   },
   "outputs": [
    {
     "data": {
      "text/html": [
       "<div>\n",
       "<style scoped>\n",
       "    .dataframe tbody tr th:only-of-type {\n",
       "        vertical-align: middle;\n",
       "    }\n",
       "\n",
       "    .dataframe tbody tr th {\n",
       "        vertical-align: top;\n",
       "    }\n",
       "\n",
       "    .dataframe thead th {\n",
       "        text-align: right;\n",
       "    }\n",
       "</style>\n",
       "<table border=\"1\" class=\"dataframe\">\n",
       "  <thead>\n",
       "    <tr style=\"text-align: right;\">\n",
       "      <th></th>\n",
       "      <th>DISPLAY_FIRST_LAST</th>\n",
       "      <th>PERSON_ID</th>\n",
       "      <th>TEAM_ID_x</th>\n",
       "      <th>AST</th>\n",
       "      <th>BLK</th>\n",
       "      <th>DREB</th>\n",
       "      <th>FG3A</th>\n",
       "      <th>FG3M</th>\n",
       "      <th>FG3_PCT</th>\n",
       "      <th>FGA</th>\n",
       "      <th>...</th>\n",
       "      <th>PTS</th>\n",
       "      <th>Player_ID</th>\n",
       "      <th>REB</th>\n",
       "      <th>SEASON_ID</th>\n",
       "      <th>STL</th>\n",
       "      <th>TEAM_ABBREVIATION</th>\n",
       "      <th>TEAM_ID_y</th>\n",
       "      <th>TOV</th>\n",
       "      <th>VIDEO_AVAILABLE</th>\n",
       "      <th>WL</th>\n",
       "    </tr>\n",
       "  </thead>\n",
       "  <tbody>\n",
       "    <tr>\n",
       "      <th>21109</th>\n",
       "      <td>Mitchell Robinson</td>\n",
       "      <td>1629011</td>\n",
       "      <td>1610612752</td>\n",
       "      <td>0</td>\n",
       "      <td>9</td>\n",
       "      <td>4</td>\n",
       "      <td>0</td>\n",
       "      <td>0</td>\n",
       "      <td>0.0</td>\n",
       "      <td>3</td>\n",
       "      <td>...</td>\n",
       "      <td>4</td>\n",
       "      <td>1629011</td>\n",
       "      <td>4</td>\n",
       "      <td>22018</td>\n",
       "      <td>0</td>\n",
       "      <td>NYK</td>\n",
       "      <td>1610612752</td>\n",
       "      <td>0</td>\n",
       "      <td>1</td>\n",
       "      <td>L</td>\n",
       "    </tr>\n",
       "    <tr>\n",
       "      <th>25135</th>\n",
       "      <td>Hassan Whiteside</td>\n",
       "      <td>202355</td>\n",
       "      <td>1610612757</td>\n",
       "      <td>2</td>\n",
       "      <td>9</td>\n",
       "      <td>14</td>\n",
       "      <td>1</td>\n",
       "      <td>0</td>\n",
       "      <td>0.0</td>\n",
       "      <td>18</td>\n",
       "      <td>...</td>\n",
       "      <td>29</td>\n",
       "      <td>202355</td>\n",
       "      <td>20</td>\n",
       "      <td>22018</td>\n",
       "      <td>0</td>\n",
       "      <td>MIA</td>\n",
       "      <td>1610612748</td>\n",
       "      <td>1</td>\n",
       "      <td>1</td>\n",
       "      <td>W</td>\n",
       "    </tr>\n",
       "  </tbody>\n",
       "</table>\n",
       "<p>2 rows × 32 columns</p>\n",
       "</div>"
      ],
      "text/plain": [
       "      DISPLAY_FIRST_LAST  PERSON_ID   TEAM_ID_x  AST  BLK  DREB  FG3A  FG3M  \\\n",
       "21109  Mitchell Robinson    1629011  1610612752    0    9     4     0     0   \n",
       "25135   Hassan Whiteside     202355  1610612757    2    9    14     1     0   \n",
       "\n",
       "       FG3_PCT  FGA  ...  PTS  Player_ID  REB  SEASON_ID  STL  \\\n",
       "21109      0.0    3  ...    4    1629011    4      22018    0   \n",
       "25135      0.0   18  ...   29     202355   20      22018    0   \n",
       "\n",
       "      TEAM_ABBREVIATION   TEAM_ID_y TOV  VIDEO_AVAILABLE  WL  \n",
       "21109               NYK  1610612752   0                1   L  \n",
       "25135               MIA  1610612748   1                1   W  \n",
       "\n",
       "[2 rows x 32 columns]"
      ]
     },
     "execution_count": 9,
     "metadata": {},
     "output_type": "execute_result"
    }
   ],
   "source": [
    "df[df['BLK']==df['BLK'].max()]"
   ]
  },
  {
   "cell_type": "code",
   "execution_count": 10,
   "metadata": {
    "collapsed": true
   },
   "outputs": [
    {
     "data": {
      "text/html": [
       "<div>\n",
       "<style scoped>\n",
       "    .dataframe tbody tr th:only-of-type {\n",
       "        vertical-align: middle;\n",
       "    }\n",
       "\n",
       "    .dataframe tbody tr th {\n",
       "        vertical-align: top;\n",
       "    }\n",
       "\n",
       "    .dataframe thead th {\n",
       "        text-align: right;\n",
       "    }\n",
       "</style>\n",
       "<table border=\"1\" class=\"dataframe\">\n",
       "  <thead>\n",
       "    <tr style=\"text-align: right;\">\n",
       "      <th></th>\n",
       "      <th>DISPLAY_FIRST_LAST</th>\n",
       "      <th>PERSON_ID</th>\n",
       "      <th>TEAM_ID_x</th>\n",
       "      <th>AST</th>\n",
       "      <th>BLK</th>\n",
       "      <th>DREB</th>\n",
       "      <th>FG3A</th>\n",
       "      <th>FG3M</th>\n",
       "      <th>FG3_PCT</th>\n",
       "      <th>FGA</th>\n",
       "      <th>...</th>\n",
       "      <th>PTS</th>\n",
       "      <th>Player_ID</th>\n",
       "      <th>REB</th>\n",
       "      <th>SEASON_ID</th>\n",
       "      <th>STL</th>\n",
       "      <th>TEAM_ABBREVIATION</th>\n",
       "      <th>TEAM_ID_y</th>\n",
       "      <th>TOV</th>\n",
       "      <th>VIDEO_AVAILABLE</th>\n",
       "      <th>WL</th>\n",
       "    </tr>\n",
       "  </thead>\n",
       "  <tbody>\n",
       "    <tr>\n",
       "      <th>24969</th>\n",
       "      <td>Russell Westbrook</td>\n",
       "      <td>201566</td>\n",
       "      <td>1610612745</td>\n",
       "      <td>24</td>\n",
       "      <td>0</td>\n",
       "      <td>11</td>\n",
       "      <td>4</td>\n",
       "      <td>0</td>\n",
       "      <td>0.0</td>\n",
       "      <td>22</td>\n",
       "      <td>...</td>\n",
       "      <td>24</td>\n",
       "      <td>201566</td>\n",
       "      <td>13</td>\n",
       "      <td>22018</td>\n",
       "      <td>2</td>\n",
       "      <td>OKC</td>\n",
       "      <td>1610612760</td>\n",
       "      <td>3</td>\n",
       "      <td>1</td>\n",
       "      <td>L</td>\n",
       "    </tr>\n",
       "  </tbody>\n",
       "</table>\n",
       "<p>1 rows × 32 columns</p>\n",
       "</div>"
      ],
      "text/plain": [
       "      DISPLAY_FIRST_LAST  PERSON_ID   TEAM_ID_x  AST  BLK  DREB  FG3A  FG3M  \\\n",
       "24969  Russell Westbrook     201566  1610612745   24    0    11     4     0   \n",
       "\n",
       "       FG3_PCT  FGA  ...  PTS  Player_ID  REB  SEASON_ID  STL  \\\n",
       "24969      0.0   22  ...   24     201566   13      22018    2   \n",
       "\n",
       "      TEAM_ABBREVIATION   TEAM_ID_y TOV  VIDEO_AVAILABLE  WL  \n",
       "24969               OKC  1610612760   3                1   L  \n",
       "\n",
       "[1 rows x 32 columns]"
      ]
     },
     "execution_count": 10,
     "metadata": {},
     "output_type": "execute_result"
    }
   ],
   "source": [
    "df[df['AST']==df['AST'].max()]"
   ]
  },
  {
   "cell_type": "markdown",
   "metadata": {},
   "source": [
    "## 2: \n",
    "\n",
    "- Find the player who scored the most points for the entire season.\n",
    "\n",
    "- Now do the same for rebounds, blocks, and assists."
   ]
  },
  {
   "cell_type": "code",
   "execution_count": 76,
   "metadata": {
    "collapsed": true
   },
   "outputs": [
    {
     "data": {
      "text/html": [
       "<div>\n",
       "<style scoped>\n",
       "    .dataframe tbody tr th:only-of-type {\n",
       "        vertical-align: middle;\n",
       "    }\n",
       "\n",
       "    .dataframe tbody tr th {\n",
       "        vertical-align: top;\n",
       "    }\n",
       "\n",
       "    .dataframe thead th {\n",
       "        text-align: right;\n",
       "    }\n",
       "</style>\n",
       "<table border=\"1\" class=\"dataframe\">\n",
       "  <thead>\n",
       "    <tr style=\"text-align: right;\">\n",
       "      <th></th>\n",
       "      <th>PTS</th>\n",
       "    </tr>\n",
       "    <tr>\n",
       "      <th>DISPLAY_FIRST_LAST</th>\n",
       "      <th></th>\n",
       "    </tr>\n",
       "  </thead>\n",
       "  <tbody>\n",
       "    <tr>\n",
       "      <th>James Harden</th>\n",
       "      <td>2818</td>\n",
       "    </tr>\n",
       "  </tbody>\n",
       "</table>\n",
       "</div>"
      ],
      "text/plain": [
       "                     PTS\n",
       "DISPLAY_FIRST_LAST      \n",
       "James Harden        2818"
      ]
     },
     "execution_count": 76,
     "metadata": {},
     "output_type": "execute_result"
    }
   ],
   "source": [
    "#your code here\n",
    "df.groupby('DISPLAY_FIRST_LAST')[['PTS']].sum().sort_values('PTS',ascending=False).head(1)"
   ]
  },
  {
   "cell_type": "code",
   "execution_count": 77,
   "metadata": {
    "collapsed": true
   },
   "outputs": [
    {
     "data": {
      "text/html": [
       "<div>\n",
       "<style scoped>\n",
       "    .dataframe tbody tr th:only-of-type {\n",
       "        vertical-align: middle;\n",
       "    }\n",
       "\n",
       "    .dataframe tbody tr th {\n",
       "        vertical-align: top;\n",
       "    }\n",
       "\n",
       "    .dataframe thead th {\n",
       "        text-align: right;\n",
       "    }\n",
       "</style>\n",
       "<table border=\"1\" class=\"dataframe\">\n",
       "  <thead>\n",
       "    <tr style=\"text-align: right;\">\n",
       "      <th></th>\n",
       "      <th>REB</th>\n",
       "    </tr>\n",
       "    <tr>\n",
       "      <th>DISPLAY_FIRST_LAST</th>\n",
       "      <th></th>\n",
       "    </tr>\n",
       "  </thead>\n",
       "  <tbody>\n",
       "    <tr>\n",
       "      <th>Andre Drummond</th>\n",
       "      <td>1232</td>\n",
       "    </tr>\n",
       "  </tbody>\n",
       "</table>\n",
       "</div>"
      ],
      "text/plain": [
       "                     REB\n",
       "DISPLAY_FIRST_LAST      \n",
       "Andre Drummond      1232"
      ]
     },
     "execution_count": 77,
     "metadata": {},
     "output_type": "execute_result"
    }
   ],
   "source": [
    "df.groupby('DISPLAY_FIRST_LAST')[['REB']].sum().sort_values('REB',ascending=False).head(1)"
   ]
  },
  {
   "cell_type": "code",
   "execution_count": 78,
   "metadata": {
    "collapsed": true
   },
   "outputs": [
    {
     "data": {
      "text/html": [
       "<div>\n",
       "<style scoped>\n",
       "    .dataframe tbody tr th:only-of-type {\n",
       "        vertical-align: middle;\n",
       "    }\n",
       "\n",
       "    .dataframe tbody tr th {\n",
       "        vertical-align: top;\n",
       "    }\n",
       "\n",
       "    .dataframe thead th {\n",
       "        text-align: right;\n",
       "    }\n",
       "</style>\n",
       "<table border=\"1\" class=\"dataframe\">\n",
       "  <thead>\n",
       "    <tr style=\"text-align: right;\">\n",
       "      <th></th>\n",
       "      <th>BLK</th>\n",
       "    </tr>\n",
       "    <tr>\n",
       "      <th>DISPLAY_FIRST_LAST</th>\n",
       "      <th></th>\n",
       "    </tr>\n",
       "  </thead>\n",
       "  <tbody>\n",
       "    <tr>\n",
       "      <th>Myles Turner</th>\n",
       "      <td>199</td>\n",
       "    </tr>\n",
       "  </tbody>\n",
       "</table>\n",
       "</div>"
      ],
      "text/plain": [
       "                    BLK\n",
       "DISPLAY_FIRST_LAST     \n",
       "Myles Turner        199"
      ]
     },
     "execution_count": 78,
     "metadata": {},
     "output_type": "execute_result"
    }
   ],
   "source": [
    "df.groupby('DISPLAY_FIRST_LAST')[['BLK']].sum().sort_values('BLK',ascending=False).head(1)"
   ]
  },
  {
   "cell_type": "code",
   "execution_count": 79,
   "metadata": {
    "collapsed": true
   },
   "outputs": [
    {
     "data": {
      "text/html": [
       "<div>\n",
       "<style scoped>\n",
       "    .dataframe tbody tr th:only-of-type {\n",
       "        vertical-align: middle;\n",
       "    }\n",
       "\n",
       "    .dataframe tbody tr th {\n",
       "        vertical-align: top;\n",
       "    }\n",
       "\n",
       "    .dataframe thead th {\n",
       "        text-align: right;\n",
       "    }\n",
       "</style>\n",
       "<table border=\"1\" class=\"dataframe\">\n",
       "  <thead>\n",
       "    <tr style=\"text-align: right;\">\n",
       "      <th></th>\n",
       "      <th>AST</th>\n",
       "    </tr>\n",
       "    <tr>\n",
       "      <th>DISPLAY_FIRST_LAST</th>\n",
       "      <th></th>\n",
       "    </tr>\n",
       "  </thead>\n",
       "  <tbody>\n",
       "    <tr>\n",
       "      <th>Russell Westbrook</th>\n",
       "      <td>784</td>\n",
       "    </tr>\n",
       "  </tbody>\n",
       "</table>\n",
       "</div>"
      ],
      "text/plain": [
       "                    AST\n",
       "DISPLAY_FIRST_LAST     \n",
       "Russell Westbrook   784"
      ]
     },
     "execution_count": 79,
     "metadata": {},
     "output_type": "execute_result"
    }
   ],
   "source": [
    "df.groupby('DISPLAY_FIRST_LAST')[['AST']].sum().sort_values('AST',ascending=False).head(1)"
   ]
  },
  {
   "cell_type": "markdown",
   "metadata": {},
   "source": [
    "## 3:\n",
    "How many players played in at least 82 games last season?"
   ]
  },
  {
   "cell_type": "code",
   "execution_count": 430,
   "metadata": {
    "scrolled": true
   },
   "outputs": [
    {
     "data": {
      "text/plain": [
       "21"
      ]
     },
     "execution_count": 430,
     "metadata": {},
     "output_type": "execute_result"
    }
   ],
   "source": [
    "#your code here\n",
    "most_games = (df.groupby('DISPLAY_FIRST_LAST')[['Game_ID']].count())\n",
    "len(most_games.loc[most_games['Game_ID']>=82])"
   ]
  },
  {
   "cell_type": "markdown",
   "metadata": {},
   "source": [
    "## 4: \n",
    "- Find which team scored the most points for the entire season.\n",
    "\n",
    "- Now do the same for rebounds, blocks, and assists."
   ]
  },
  {
   "cell_type": "code",
   "execution_count": 146,
   "metadata": {
    "collapsed": true
   },
   "outputs": [
    {
     "data": {
      "text/html": [
       "<div>\n",
       "<style scoped>\n",
       "    .dataframe tbody tr th:only-of-type {\n",
       "        vertical-align: middle;\n",
       "    }\n",
       "\n",
       "    .dataframe tbody tr th {\n",
       "        vertical-align: top;\n",
       "    }\n",
       "\n",
       "    .dataframe thead th {\n",
       "        text-align: right;\n",
       "    }\n",
       "</style>\n",
       "<table border=\"1\" class=\"dataframe\">\n",
       "  <thead>\n",
       "    <tr style=\"text-align: right;\">\n",
       "      <th></th>\n",
       "      <th>PTS</th>\n",
       "    </tr>\n",
       "    <tr>\n",
       "      <th>TEAM_ABBREVIATION</th>\n",
       "      <th></th>\n",
       "    </tr>\n",
       "  </thead>\n",
       "  <tbody>\n",
       "    <tr>\n",
       "      <th>MIL</th>\n",
       "      <td>9686</td>\n",
       "    </tr>\n",
       "    <tr>\n",
       "      <th>GSW</th>\n",
       "      <td>9650</td>\n",
       "    </tr>\n",
       "  </tbody>\n",
       "</table>\n",
       "</div>"
      ],
      "text/plain": [
       "                    PTS\n",
       "TEAM_ABBREVIATION      \n",
       "MIL                9686\n",
       "GSW                9650"
      ]
     },
     "execution_count": 146,
     "metadata": {},
     "output_type": "execute_result"
    }
   ],
   "source": [
    "# your code here\n",
    "df.groupby('TEAM_ABBREVIATION')[['PTS']].sum().sort_values('PTS',ascending=False).head(2)"
   ]
  },
  {
   "cell_type": "code",
   "execution_count": 145,
   "metadata": {
    "collapsed": true
   },
   "outputs": [
    {
     "data": {
      "text/html": [
       "<div>\n",
       "<style scoped>\n",
       "    .dataframe tbody tr th:only-of-type {\n",
       "        vertical-align: middle;\n",
       "    }\n",
       "\n",
       "    .dataframe tbody tr th {\n",
       "        vertical-align: top;\n",
       "    }\n",
       "\n",
       "    .dataframe thead th {\n",
       "        text-align: right;\n",
       "    }\n",
       "</style>\n",
       "<table border=\"1\" class=\"dataframe\">\n",
       "  <thead>\n",
       "    <tr style=\"text-align: right;\">\n",
       "      <th></th>\n",
       "      <th>REB</th>\n",
       "    </tr>\n",
       "    <tr>\n",
       "      <th>TEAM_ABBREVIATION</th>\n",
       "      <th></th>\n",
       "    </tr>\n",
       "  </thead>\n",
       "  <tbody>\n",
       "    <tr>\n",
       "      <th>MIL</th>\n",
       "      <td>4078</td>\n",
       "    </tr>\n",
       "    <tr>\n",
       "      <th>OKC</th>\n",
       "      <td>3942</td>\n",
       "    </tr>\n",
       "  </tbody>\n",
       "</table>\n",
       "</div>"
      ],
      "text/plain": [
       "                    REB\n",
       "TEAM_ABBREVIATION      \n",
       "MIL                4078\n",
       "OKC                3942"
      ]
     },
     "execution_count": 145,
     "metadata": {},
     "output_type": "execute_result"
    }
   ],
   "source": [
    "df.groupby('TEAM_ABBREVIATION')[['REB']].sum().sort_values('REB',ascending=False).head(2)"
   ]
  },
  {
   "cell_type": "code",
   "execution_count": 147,
   "metadata": {
    "collapsed": true
   },
   "outputs": [
    {
     "data": {
      "text/html": [
       "<div>\n",
       "<style scoped>\n",
       "    .dataframe tbody tr th:only-of-type {\n",
       "        vertical-align: middle;\n",
       "    }\n",
       "\n",
       "    .dataframe tbody tr th {\n",
       "        vertical-align: top;\n",
       "    }\n",
       "\n",
       "    .dataframe thead th {\n",
       "        text-align: right;\n",
       "    }\n",
       "</style>\n",
       "<table border=\"1\" class=\"dataframe\">\n",
       "  <thead>\n",
       "    <tr style=\"text-align: right;\">\n",
       "      <th></th>\n",
       "      <th>BLK</th>\n",
       "    </tr>\n",
       "    <tr>\n",
       "      <th>TEAM_ABBREVIATION</th>\n",
       "      <th></th>\n",
       "    </tr>\n",
       "  </thead>\n",
       "  <tbody>\n",
       "    <tr>\n",
       "      <th>GSW</th>\n",
       "      <td>525</td>\n",
       "    </tr>\n",
       "    <tr>\n",
       "      <th>MIL</th>\n",
       "      <td>486</td>\n",
       "    </tr>\n",
       "  </tbody>\n",
       "</table>\n",
       "</div>"
      ],
      "text/plain": [
       "                   BLK\n",
       "TEAM_ABBREVIATION     \n",
       "GSW                525\n",
       "MIL                486"
      ]
     },
     "execution_count": 147,
     "metadata": {},
     "output_type": "execute_result"
    }
   ],
   "source": [
    "df.groupby('TEAM_ABBREVIATION')[['BLK']].sum().sort_values('BLK',ascending=False).head(2)"
   ]
  },
  {
   "cell_type": "code",
   "execution_count": 148,
   "metadata": {
    "collapsed": true
   },
   "outputs": [
    {
     "data": {
      "text/html": [
       "<div>\n",
       "<style scoped>\n",
       "    .dataframe tbody tr th:only-of-type {\n",
       "        vertical-align: middle;\n",
       "    }\n",
       "\n",
       "    .dataframe tbody tr th {\n",
       "        vertical-align: top;\n",
       "    }\n",
       "\n",
       "    .dataframe thead th {\n",
       "        text-align: right;\n",
       "    }\n",
       "</style>\n",
       "<table border=\"1\" class=\"dataframe\">\n",
       "  <thead>\n",
       "    <tr style=\"text-align: right;\">\n",
       "      <th></th>\n",
       "      <th>AST</th>\n",
       "    </tr>\n",
       "    <tr>\n",
       "      <th>TEAM_ABBREVIATION</th>\n",
       "      <th></th>\n",
       "    </tr>\n",
       "  </thead>\n",
       "  <tbody>\n",
       "    <tr>\n",
       "      <th>GSW</th>\n",
       "      <td>2413</td>\n",
       "    </tr>\n",
       "    <tr>\n",
       "      <th>DEN</th>\n",
       "      <td>2245</td>\n",
       "    </tr>\n",
       "  </tbody>\n",
       "</table>\n",
       "</div>"
      ],
      "text/plain": [
       "                    AST\n",
       "TEAM_ABBREVIATION      \n",
       "GSW                2413\n",
       "DEN                2245"
      ]
     },
     "execution_count": 148,
     "metadata": {},
     "output_type": "execute_result"
    }
   ],
   "source": [
    "df.groupby('TEAM_ABBREVIATION')[['AST']].sum().sort_values('AST',ascending=False).head(2)"
   ]
  },
  {
   "cell_type": "markdown",
   "metadata": {},
   "source": [
    "## 5:\n",
    "Which team had the most players play for them last season?"
   ]
  },
  {
   "cell_type": "code",
   "execution_count": 439,
   "metadata": {
    "collapsed": true
   },
   "outputs": [
    {
     "data": {
      "text/html": [
       "<div>\n",
       "<style scoped>\n",
       "    .dataframe tbody tr th:only-of-type {\n",
       "        vertical-align: middle;\n",
       "    }\n",
       "\n",
       "    .dataframe tbody tr th {\n",
       "        vertical-align: top;\n",
       "    }\n",
       "\n",
       "    .dataframe thead th {\n",
       "        text-align: right;\n",
       "    }\n",
       "</style>\n",
       "<table border=\"1\" class=\"dataframe\">\n",
       "  <thead>\n",
       "    <tr style=\"text-align: right;\">\n",
       "      <th></th>\n",
       "      <th>PERSON_ID</th>\n",
       "    </tr>\n",
       "    <tr>\n",
       "      <th>TEAM_ABBREVIATION</th>\n",
       "      <th></th>\n",
       "    </tr>\n",
       "  </thead>\n",
       "  <tbody>\n",
       "    <tr>\n",
       "      <th>MEM</th>\n",
       "      <td>28</td>\n",
       "    </tr>\n",
       "    <tr>\n",
       "      <th>CLE</th>\n",
       "      <td>27</td>\n",
       "    </tr>\n",
       "  </tbody>\n",
       "</table>\n",
       "</div>"
      ],
      "text/plain": [
       "                   PERSON_ID\n",
       "TEAM_ABBREVIATION           \n",
       "MEM                       28\n",
       "CLE                       27"
      ]
     },
     "execution_count": 439,
     "metadata": {},
     "output_type": "execute_result"
    }
   ],
   "source": [
    "#your code here\n",
    "df.groupby(['TEAM_ABBREVIATION','PERSON_ID'])[['DISPLAY_FIRST_LAST']].count().reset_index().groupby('TEAM_ABBREVIATION')[['PERSON_ID']].count().sort_values('PERSON_ID',ascending=False).head(2)"
   ]
  },
  {
   "cell_type": "markdown",
   "metadata": {},
   "source": [
    "## 6:\n",
    "- How many players play for more than one team last year?\n",
    "\n",
    "- What is the most number of teams a player played for last season?"
   ]
  },
  {
   "cell_type": "code",
   "execution_count": 489,
   "metadata": {
    "scrolled": true
   },
   "outputs": [
    {
     "data": {
      "text/plain": [
       "86"
      ]
     },
     "execution_count": 489,
     "metadata": {},
     "output_type": "execute_result"
    }
   ],
   "source": [
    "unique_teams = df.groupby(['DISPLAY_FIRST_LAST','TEAM_ID_y']).size().reset_index().groupby('DISPLAY_FIRST_LAST').count().rename(columns={0:'count'}).drop('TEAM_ID_y',axis=1)\n",
    "len(unique_teams.loc[unique_teams['count']>=2].sort_values('count',ascending=False))"
   ]
  },
  {
   "cell_type": "markdown",
   "metadata": {},
   "source": [
    "## 7:\n",
    "\n",
    "Find the player who scored the least amount of points while playing in at least 40 games last season."
   ]
  },
  {
   "cell_type": "code",
   "execution_count": 501,
   "metadata": {},
   "outputs": [
    {
     "data": {
      "text/html": [
       "<div>\n",
       "<style scoped>\n",
       "    .dataframe tbody tr th:only-of-type {\n",
       "        vertical-align: middle;\n",
       "    }\n",
       "\n",
       "    .dataframe tbody tr th {\n",
       "        vertical-align: top;\n",
       "    }\n",
       "\n",
       "    .dataframe thead th {\n",
       "        text-align: right;\n",
       "    }\n",
       "</style>\n",
       "<table border=\"1\" class=\"dataframe\">\n",
       "  <thead>\n",
       "    <tr style=\"text-align: right;\">\n",
       "      <th></th>\n",
       "      <th>Games Played</th>\n",
       "      <th>PTS</th>\n",
       "    </tr>\n",
       "    <tr>\n",
       "      <th>DISPLAY_FIRST_LAST</th>\n",
       "      <th></th>\n",
       "      <th></th>\n",
       "    </tr>\n",
       "  </thead>\n",
       "  <tbody>\n",
       "    <tr>\n",
       "      <th>Sindarius Thornwell</th>\n",
       "      <td>64</td>\n",
       "      <td>62</td>\n",
       "    </tr>\n",
       "  </tbody>\n",
       "</table>\n",
       "</div>"
      ],
      "text/plain": [
       "                     Games Played  PTS\n",
       "DISPLAY_FIRST_LAST                    \n",
       "Sindarius Thornwell            64   62"
      ]
     },
     "execution_count": 501,
     "metadata": {},
     "output_type": "execute_result"
    }
   ],
   "source": [
    "#your code here\n",
    "temp = df.groupby('DISPLAY_FIRST_LAST').agg({'Game_ID':'count', 'PTS': 'sum'}).sort_values('PTS')\n",
    "temp.loc[temp['Game_ID']>=40].rename(columns = {'Game_ID':'Games Played'}).head(1)"
   ]
  },
  {
   "cell_type": "markdown",
   "metadata": {},
   "source": [
    "# Part 4: Pandas and Probability"
   ]
  },
  {
   "cell_type": "markdown",
   "metadata": {},
   "source": [
    "## 8: \n",
    "\n",
    "What is the probability that a random player had a game where they scored more than 40 points?"
   ]
  },
  {
   "cell_type": "code",
   "execution_count": 482,
   "metadata": {},
   "outputs": [
    {
     "data": {
      "text/plain": [
       "0.004214397915788667"
      ]
     },
     "execution_count": 482,
     "metadata": {},
     "output_type": "execute_result"
    }
   ],
   "source": [
    "#your code here\n",
    "len(df.loc[df['PTS']>40])/len(df)"
   ]
  },
  {
   "cell_type": "markdown",
   "metadata": {},
   "source": [
    "## 9:\n",
    "\n",
    "What is the probability that a randomly selected player from last season would average more than 20 points per game?"
   ]
  },
  {
   "cell_type": "code",
   "execution_count": 530,
   "metadata": {},
   "outputs": [
    {
     "data": {
      "text/plain": [
       "0.062264150943396226"
      ]
     },
     "execution_count": 530,
     "metadata": {},
     "output_type": "execute_result"
    }
   ],
   "source": [
    "# your code here\n",
    "over_20 = df.groupby('DISPLAY_FIRST_LAST')[['PTS']].mean()>20\n",
    "len(over_20[over_20['PTS']])/len(df['DISPLAY_FIRST_LAST'].unique())"
   ]
  },
  {
   "cell_type": "markdown",
   "metadata": {},
   "source": [
    "# Advanced Questions"
   ]
  },
  {
   "cell_type": "markdown",
   "metadata": {},
   "source": [
    "## 10: \n",
    "Find the player who scored the least amount of points while playing in at least 40 games and averageing at least 15 minutes per game last season."
   ]
  },
  {
   "cell_type": "code",
   "execution_count": 270,
   "metadata": {},
   "outputs": [
    {
     "data": {
      "text/html": [
       "<div>\n",
       "<style scoped>\n",
       "    .dataframe tbody tr th:only-of-type {\n",
       "        vertical-align: middle;\n",
       "    }\n",
       "\n",
       "    .dataframe tbody tr th {\n",
       "        vertical-align: top;\n",
       "    }\n",
       "\n",
       "    .dataframe thead th {\n",
       "        text-align: right;\n",
       "    }\n",
       "</style>\n",
       "<table border=\"1\" class=\"dataframe\">\n",
       "  <thead>\n",
       "    <tr style=\"text-align: right;\">\n",
       "      <th></th>\n",
       "      <th>Games Played</th>\n",
       "      <th>PTS</th>\n",
       "      <th>Average Gametime</th>\n",
       "    </tr>\n",
       "    <tr>\n",
       "      <th>DISPLAY_FIRST_LAST</th>\n",
       "      <th></th>\n",
       "      <th></th>\n",
       "      <th></th>\n",
       "    </tr>\n",
       "  </thead>\n",
       "  <tbody>\n",
       "    <tr>\n",
       "      <th>Tyson Chandler</th>\n",
       "      <td>55</td>\n",
       "      <td>173</td>\n",
       "      <td>15.927273</td>\n",
       "    </tr>\n",
       "    <tr>\n",
       "      <th>Solomon Hill</th>\n",
       "      <td>44</td>\n",
       "      <td>191</td>\n",
       "      <td>19.886364</td>\n",
       "    </tr>\n",
       "  </tbody>\n",
       "</table>\n",
       "</div>"
      ],
      "text/plain": [
       "                    Games Played  PTS  Average Gametime\n",
       "DISPLAY_FIRST_LAST                                     \n",
       "Tyson Chandler                55  173         15.927273\n",
       "Solomon Hill                  44  191         19.886364"
      ]
     },
     "execution_count": 270,
     "metadata": {},
     "output_type": "execute_result"
    }
   ],
   "source": [
    "#your code here\n",
    "temp = df.groupby('DISPLAY_FIRST_LAST').agg({'Game_ID':'count', 'PTS': 'sum','MIN':'mean'}).sort_values('PTS')\n",
    "temp.loc[(temp['Game_ID']>=40) & (temp['MIN']>=15)].rename(columns = {'Game_ID':'Games Played','MIN':'Average Gametime'}).head(2)"
   ]
  },
  {
   "cell_type": "code",
   "execution_count": 495,
   "metadata": {},
   "outputs": [
    {
     "data": {
      "text/plain": [
       "'Tyson Chandler'"
      ]
     },
     "execution_count": 495,
     "metadata": {},
     "output_type": "execute_result"
    }
   ],
   "source": [
    "df.groupby('DISPLAY_FIRST_LAST').agg({'Game_ID':'count', 'PTS': 'sum','MIN':'mean'}).query('Game_ID>=40 & MIN>=15')['PTS'].idxmin()"
   ]
  },
  {
   "cell_type": "markdown",
   "metadata": {},
   "source": [
    "## 11: \n",
    "Which player scored the largest share of points for their team throughout the season."
   ]
  },
  {
   "cell_type": "code",
   "execution_count": 444,
   "metadata": {
    "collapsed": true
   },
   "outputs": [
    {
     "data": {
      "text/html": [
       "<div>\n",
       "<style scoped>\n",
       "    .dataframe tbody tr th:only-of-type {\n",
       "        vertical-align: middle;\n",
       "    }\n",
       "\n",
       "    .dataframe tbody tr th {\n",
       "        vertical-align: top;\n",
       "    }\n",
       "\n",
       "    .dataframe thead th {\n",
       "        text-align: right;\n",
       "    }\n",
       "</style>\n",
       "<table border=\"1\" class=\"dataframe\">\n",
       "  <thead>\n",
       "    <tr style=\"text-align: right;\">\n",
       "      <th></th>\n",
       "      <th>DISPLAY_FIRST_LAST</th>\n",
       "      <th>TEAM_ABBREVIATION</th>\n",
       "      <th>PTS_x</th>\n",
       "      <th>PTS_y</th>\n",
       "      <th>Point_Share</th>\n",
       "    </tr>\n",
       "  </thead>\n",
       "  <tbody>\n",
       "    <tr>\n",
       "      <th>427</th>\n",
       "      <td>James Harden</td>\n",
       "      <td>HOU</td>\n",
       "      <td>2818</td>\n",
       "      <td>9341</td>\n",
       "      <td>0.301681</td>\n",
       "    </tr>\n",
       "  </tbody>\n",
       "</table>\n",
       "</div>"
      ],
      "text/plain": [
       "    DISPLAY_FIRST_LAST TEAM_ABBREVIATION  PTS_x  PTS_y  Point_Share\n",
       "427       James Harden               HOU   2818   9341     0.301681"
      ]
     },
     "execution_count": 444,
     "metadata": {},
     "output_type": "execute_result"
    }
   ],
   "source": [
    "#your code here\n",
    "temp = df.groupby(['DISPLAY_FIRST_LAST','TEAM_ABBREVIATION']).agg({'PTS':'sum'}).reset_index()\n",
    "temp2 = df.groupby('TEAM_ABBREVIATION').agg({'PTS':'sum'}).reset_index()\n",
    "merged = pd.merge(temp, temp2, left_on='TEAM_ABBREVIATION', right_on='TEAM_ABBREVIATION', how='outer')\n",
    "merged['Point_Share'] = merged.apply(lambda row: row['PTS_x']/row['PTS_y'], axis = 1)\n",
    "merged[merged['Point_Share'] == merged['Point_Share'].max()]"
   ]
  },
  {
   "cell_type": "markdown",
   "metadata": {},
   "source": [
    "## 12:\n",
    "\n",
    "What is the probability that a randomly selected player had at least one game in which they scored 40 points last season. "
   ]
  },
  {
   "cell_type": "code",
   "execution_count": 449,
   "metadata": {},
   "outputs": [
    {
     "data": {
      "text/plain": [
       "0.035849056603773584"
      ]
     },
     "execution_count": 449,
     "metadata": {},
     "output_type": "execute_result"
    }
   ],
   "source": [
    "# your code here\n",
    "len(df.loc[df['PTS']==40]['DISPLAY_FIRST_LAST'].unique())/len(df['DISPLAY_FIRST_LAST'].unique())"
   ]
  },
  {
   "cell_type": "markdown",
   "metadata": {},
   "source": [
    "## 13: \n",
    "\n",
    "A double-double is when a player records for any of the two follow categories: points, rebounds, assists, steals, or blocks. \n",
    "What is the probability that a randomly selected player had a double-double in a game last season?\n"
   ]
  },
  {
   "cell_type": "code",
   "execution_count": 478,
   "metadata": {
    "scrolled": true
   },
   "outputs": [],
   "source": [
    "#your code here\n",
    "points = df[(df['PTS']>=10)].groupby(['DISPLAY_FIRST_LAST','Game_ID']).size().reset_index().drop(0,axis=1)\n",
    "rebounds = df[(df['REB']>=10)].groupby(['DISPLAY_FIRST_LAST','Game_ID']).size().reset_index().drop(0,axis=1)\n",
    "assists = df[(df['AST']>=10)].groupby(['DISPLAY_FIRST_LAST','Game_ID']).size().reset_index().drop(0,axis=1)\n",
    "steals = df[(df['STL']>=10)].groupby(['DISPLAY_FIRST_LAST','Game_ID']).size().reset_index().drop(0,axis=1)\n",
    "blocks = df[(df['BLK']>=10)].groupby(['DISPLAY_FIRST_LAST','Game_ID']).size().reset_index().drop(0,axis=1)\n",
    "\n",
    "everyone = np.concatenate((points.values,rebounds.values,assists.values,steals.values,blocks.values))\n",
    "# unique, counts = np.unique(everyone, return_counts=True,axis=0)\n",
    "# dd = [(k, v) for k, v in zip(unique, counts) if v>=2]\n",
    "# td = [(k, v) for k, v in zip(unique, counts) if v>=3]"
   ]
  },
  {
   "cell_type": "code",
   "execution_count": 468,
   "metadata": {},
   "outputs": [],
   "source": [
    "players = [tuple(row) for row in everyone]\n",
    "od = []\n",
    "dd = []\n",
    "td = []\n",
    "\n",
    "for player in players:\n",
    "    if player not in od:\n",
    "        od.append(player)\n",
    "    elif player not in dd:\n",
    "        dd.append(player)\n",
    "    elif player not in td:\n",
    "        td.append(player)"
   ]
  },
  {
   "cell_type": "code",
   "execution_count": 469,
   "metadata": {},
   "outputs": [
    {
     "name": "stdout",
     "output_type": "stream",
     "text": [
      "double-double: 0.49056603773584906\n",
      "triple-double: 0.06981132075471698\n"
     ]
    }
   ],
   "source": [
    "print('double-double:',len({name[0] for name in dd})/len(df['DISPLAY_FIRST_LAST'].unique()))\n",
    "print('triple-double:',len({name[0] for name in td})/len(df['DISPLAY_FIRST_LAST'].unique()))"
   ]
  },
  {
   "cell_type": "markdown",
   "metadata": {},
   "source": [
    "## 14:\n",
    "\n",
    "What is the probability that a randomnly selected game had a player record a triple-double in that game?"
   ]
  },
  {
   "cell_type": "code",
   "execution_count": 484,
   "metadata": {},
   "outputs": [
    {
     "data": {
      "text/html": [
       "<div>\n",
       "<style scoped>\n",
       "    .dataframe tbody tr th:only-of-type {\n",
       "        vertical-align: middle;\n",
       "    }\n",
       "\n",
       "    .dataframe tbody tr th {\n",
       "        vertical-align: top;\n",
       "    }\n",
       "\n",
       "    .dataframe thead th {\n",
       "        text-align: right;\n",
       "    }\n",
       "</style>\n",
       "<table border=\"1\" class=\"dataframe\">\n",
       "  <thead>\n",
       "    <tr style=\"text-align: right;\">\n",
       "      <th></th>\n",
       "      <th>DISPLAY_FIRST_LAST</th>\n",
       "      <th>Game_ID</th>\n",
       "    </tr>\n",
       "  </thead>\n",
       "  <tbody>\n",
       "  </tbody>\n",
       "</table>\n",
       "</div>"
      ],
      "text/plain": [
       "Empty DataFrame\n",
       "Columns: [DISPLAY_FIRST_LAST, Game_ID]\n",
       "Index: []"
      ]
     },
     "execution_count": 484,
     "metadata": {},
     "output_type": "execute_result"
    }
   ],
   "source": [
    "#your code here"
   ]
  },
  {
   "cell_type": "markdown",
   "metadata": {},
   "source": [
    "# Part 5: Super Duper Challenge\n",
    "\n"
   ]
  },
  {
   "cell_type": "markdown",
   "metadata": {},
   "source": [
    "## 15:\n",
    "\n",
    "How many players last season averaged more points per game than their career average?"
   ]
  },
  {
   "cell_type": "code",
   "execution_count": 415,
   "metadata": {
    "collapsed": true
   },
   "outputs": [
    {
     "data": {
      "text/html": [
       "<div>\n",
       "<style scoped>\n",
       "    .dataframe tbody tr th:only-of-type {\n",
       "        vertical-align: middle;\n",
       "    }\n",
       "\n",
       "    .dataframe tbody tr th {\n",
       "        vertical-align: top;\n",
       "    }\n",
       "\n",
       "    .dataframe thead th {\n",
       "        text-align: right;\n",
       "    }\n",
       "</style>\n",
       "<table border=\"1\" class=\"dataframe\">\n",
       "  <thead>\n",
       "    <tr style=\"text-align: right;\">\n",
       "      <th></th>\n",
       "      <th>DISPLAY_FIRST_LAST</th>\n",
       "      <th>C_AVG_PTS</th>\n",
       "    </tr>\n",
       "  </thead>\n",
       "  <tbody>\n",
       "    <tr>\n",
       "      <th>0</th>\n",
       "      <td>Alex Abrines</td>\n",
       "      <td>5.3</td>\n",
       "    </tr>\n",
       "    <tr>\n",
       "      <th>0</th>\n",
       "      <td>Quincy Acy</td>\n",
       "      <td>4.9</td>\n",
       "    </tr>\n",
       "    <tr>\n",
       "      <th>0</th>\n",
       "      <td>Jaylen Adams</td>\n",
       "      <td>3.2</td>\n",
       "    </tr>\n",
       "    <tr>\n",
       "      <th>0</th>\n",
       "      <td>Steven Adams</td>\n",
       "      <td>13.9</td>\n",
       "    </tr>\n",
       "    <tr>\n",
       "      <th>0</th>\n",
       "      <td>Bam Adebayo</td>\n",
       "      <td>8.9</td>\n",
       "    </tr>\n",
       "    <tr>\n",
       "      <th>0</th>\n",
       "      <td>Deng Adel</td>\n",
       "      <td>1.7</td>\n",
       "    </tr>\n",
       "    <tr>\n",
       "      <th>0</th>\n",
       "      <td>DeVaughn Akoon-Purcell</td>\n",
       "      <td>1.0</td>\n",
       "    </tr>\n",
       "    <tr>\n",
       "      <th>0</th>\n",
       "      <td>LaMarcus Aldridge</td>\n",
       "      <td>21.3</td>\n",
       "    </tr>\n",
       "    <tr>\n",
       "      <th>0</th>\n",
       "      <td>Rawle Alkins</td>\n",
       "      <td>3.7</td>\n",
       "    </tr>\n",
       "    <tr>\n",
       "      <th>0</th>\n",
       "      <td>Grayson Allen</td>\n",
       "      <td>5.6</td>\n",
       "    </tr>\n",
       "    <tr>\n",
       "      <th>0</th>\n",
       "      <td>Jarrett Allen</td>\n",
       "      <td>10.9</td>\n",
       "    </tr>\n",
       "    <tr>\n",
       "      <th>0</th>\n",
       "      <td>Kadeem Allen</td>\n",
       "      <td>9.9</td>\n",
       "    </tr>\n",
       "    <tr>\n",
       "      <th>0</th>\n",
       "      <td>Al-Farouq Aminu</td>\n",
       "      <td>9.4</td>\n",
       "    </tr>\n",
       "    <tr>\n",
       "      <th>0</th>\n",
       "      <td>Justin Anderson</td>\n",
       "      <td>5.3</td>\n",
       "    </tr>\n",
       "    <tr>\n",
       "      <th>0</th>\n",
       "      <td>Kyle Anderson</td>\n",
       "      <td>8.0</td>\n",
       "    </tr>\n",
       "    <tr>\n",
       "      <th>0</th>\n",
       "      <td>Ryan Anderson</td>\n",
       "      <td>12.4</td>\n",
       "    </tr>\n",
       "    <tr>\n",
       "      <th>0</th>\n",
       "      <td>Ike Anigbogu</td>\n",
       "      <td>0.9</td>\n",
       "    </tr>\n",
       "    <tr>\n",
       "      <th>0</th>\n",
       "      <td>Giannis Antetokounmpo</td>\n",
       "      <td>27.7</td>\n",
       "    </tr>\n",
       "    <tr>\n",
       "      <th>0</th>\n",
       "      <td>Kostas Antetokounmpo</td>\n",
       "      <td>1.0</td>\n",
       "    </tr>\n",
       "    <tr>\n",
       "      <th>0</th>\n",
       "      <td>Carmelo Anthony</td>\n",
       "      <td>24.0</td>\n",
       "    </tr>\n",
       "    <tr>\n",
       "      <th>0</th>\n",
       "      <td>OG Anunoby</td>\n",
       "      <td>7.0</td>\n",
       "    </tr>\n",
       "    <tr>\n",
       "      <th>0</th>\n",
       "      <td>Ryan Arcidiacono</td>\n",
       "      <td>6.7</td>\n",
       "    </tr>\n",
       "    <tr>\n",
       "      <th>0</th>\n",
       "      <td>Trevor Ariza</td>\n",
       "      <td>12.5</td>\n",
       "    </tr>\n",
       "    <tr>\n",
       "      <th>0</th>\n",
       "      <td>D.J. Augustin</td>\n",
       "      <td>11.7</td>\n",
       "    </tr>\n",
       "    <tr>\n",
       "      <th>0</th>\n",
       "      <td>Deandre Ayton</td>\n",
       "      <td>16.3</td>\n",
       "    </tr>\n",
       "    <tr>\n",
       "      <th>0</th>\n",
       "      <td>Dwayne Bacon</td>\n",
       "      <td>7.3</td>\n",
       "    </tr>\n",
       "    <tr>\n",
       "      <th>0</th>\n",
       "      <td>Marvin Bagley III</td>\n",
       "      <td>14.9</td>\n",
       "    </tr>\n",
       "    <tr>\n",
       "      <th>0</th>\n",
       "      <td>Ron Baker</td>\n",
       "      <td>3.1</td>\n",
       "    </tr>\n",
       "    <tr>\n",
       "      <th>0</th>\n",
       "      <td>Wade Baldwin IV</td>\n",
       "      <td>3.1</td>\n",
       "    </tr>\n",
       "    <tr>\n",
       "      <th>0</th>\n",
       "      <td>Lonzo Ball</td>\n",
       "      <td>9.9</td>\n",
       "    </tr>\n",
       "    <tr>\n",
       "      <th>...</th>\n",
       "      <td>...</td>\n",
       "      <td>...</td>\n",
       "    </tr>\n",
       "    <tr>\n",
       "      <th>0</th>\n",
       "      <td>Julian Washburn</td>\n",
       "      <td>2.2</td>\n",
       "    </tr>\n",
       "    <tr>\n",
       "      <th>0</th>\n",
       "      <td>Yuta Watanabe</td>\n",
       "      <td>2.6</td>\n",
       "    </tr>\n",
       "    <tr>\n",
       "      <th>0</th>\n",
       "      <td>Thomas Welsh</td>\n",
       "      <td>1.6</td>\n",
       "    </tr>\n",
       "    <tr>\n",
       "      <th>0</th>\n",
       "      <td>Russell Westbrook</td>\n",
       "      <td>22.9</td>\n",
       "    </tr>\n",
       "    <tr>\n",
       "      <th>0</th>\n",
       "      <td>Derrick White</td>\n",
       "      <td>9.9</td>\n",
       "    </tr>\n",
       "    <tr>\n",
       "      <th>0</th>\n",
       "      <td>Okaro White</td>\n",
       "      <td>2.7</td>\n",
       "    </tr>\n",
       "    <tr>\n",
       "      <th>0</th>\n",
       "      <td>Isaiah Whitehead</td>\n",
       "      <td>7.2</td>\n",
       "    </tr>\n",
       "    <tr>\n",
       "      <th>0</th>\n",
       "      <td>Hassan Whiteside</td>\n",
       "      <td>12.3</td>\n",
       "    </tr>\n",
       "    <tr>\n",
       "      <th>0</th>\n",
       "      <td>Andrew Wiggins</td>\n",
       "      <td>18.1</td>\n",
       "    </tr>\n",
       "    <tr>\n",
       "      <th>0</th>\n",
       "      <td>Alan Williams</td>\n",
       "      <td>6.2</td>\n",
       "    </tr>\n",
       "    <tr>\n",
       "      <th>0</th>\n",
       "      <td>C.J. Williams</td>\n",
       "      <td>4.7</td>\n",
       "    </tr>\n",
       "    <tr>\n",
       "      <th>0</th>\n",
       "      <td>Johnathan Williams</td>\n",
       "      <td>6.5</td>\n",
       "    </tr>\n",
       "    <tr>\n",
       "      <th>0</th>\n",
       "      <td>Kenrich Williams</td>\n",
       "      <td>6.1</td>\n",
       "    </tr>\n",
       "    <tr>\n",
       "      <th>0</th>\n",
       "      <td>Lou Williams</td>\n",
       "      <td>20.0</td>\n",
       "    </tr>\n",
       "    <tr>\n",
       "      <th>0</th>\n",
       "      <td>Marvin Williams</td>\n",
       "      <td>10.1</td>\n",
       "    </tr>\n",
       "    <tr>\n",
       "      <th>0</th>\n",
       "      <td>Troy Williams</td>\n",
       "      <td>5.3</td>\n",
       "    </tr>\n",
       "    <tr>\n",
       "      <th>0</th>\n",
       "      <td>Robert Williams III</td>\n",
       "      <td>2.5</td>\n",
       "    </tr>\n",
       "    <tr>\n",
       "      <th>0</th>\n",
       "      <td>D.J. Wilson</td>\n",
       "      <td>5.8</td>\n",
       "    </tr>\n",
       "    <tr>\n",
       "      <th>0</th>\n",
       "      <td>Justise Winslow</td>\n",
       "      <td>12.6</td>\n",
       "    </tr>\n",
       "    <tr>\n",
       "      <th>0</th>\n",
       "      <td>Christian Wood</td>\n",
       "      <td>8.2</td>\n",
       "    </tr>\n",
       "    <tr>\n",
       "      <th>0</th>\n",
       "      <td>Delon Wright</td>\n",
       "      <td>8.7</td>\n",
       "    </tr>\n",
       "    <tr>\n",
       "      <th>0</th>\n",
       "      <td>Guerschon Yabusele</td>\n",
       "      <td>2.3</td>\n",
       "    </tr>\n",
       "    <tr>\n",
       "      <th>0</th>\n",
       "      <td>Nick Young</td>\n",
       "      <td>11.4</td>\n",
       "    </tr>\n",
       "    <tr>\n",
       "      <th>0</th>\n",
       "      <td>Thaddeus Young</td>\n",
       "      <td>12.6</td>\n",
       "    </tr>\n",
       "    <tr>\n",
       "      <th>0</th>\n",
       "      <td>Trae Young</td>\n",
       "      <td>19.1</td>\n",
       "    </tr>\n",
       "    <tr>\n",
       "      <th>0</th>\n",
       "      <td>Cody Zeller</td>\n",
       "      <td>10.1</td>\n",
       "    </tr>\n",
       "    <tr>\n",
       "      <th>0</th>\n",
       "      <td>Tyler Zeller</td>\n",
       "      <td>7.0</td>\n",
       "    </tr>\n",
       "    <tr>\n",
       "      <th>0</th>\n",
       "      <td>Zhou Qi</td>\n",
       "      <td>1.3</td>\n",
       "    </tr>\n",
       "    <tr>\n",
       "      <th>0</th>\n",
       "      <td>Ante Zizic</td>\n",
       "      <td>7.8</td>\n",
       "    </tr>\n",
       "    <tr>\n",
       "      <th>0</th>\n",
       "      <td>Ivica Zubac</td>\n",
       "      <td>8.9</td>\n",
       "    </tr>\n",
       "  </tbody>\n",
       "</table>\n",
       "<p>538 rows × 2 columns</p>\n",
       "</div>"
      ],
      "text/plain": [
       "        DISPLAY_FIRST_LAST  C_AVG_PTS\n",
       "0             Alex Abrines        5.3\n",
       "0               Quincy Acy        4.9\n",
       "0             Jaylen Adams        3.2\n",
       "0             Steven Adams       13.9\n",
       "0              Bam Adebayo        8.9\n",
       "0                Deng Adel        1.7\n",
       "0   DeVaughn Akoon-Purcell        1.0\n",
       "0        LaMarcus Aldridge       21.3\n",
       "0             Rawle Alkins        3.7\n",
       "0            Grayson Allen        5.6\n",
       "0            Jarrett Allen       10.9\n",
       "0             Kadeem Allen        9.9\n",
       "0          Al-Farouq Aminu        9.4\n",
       "0          Justin Anderson        5.3\n",
       "0            Kyle Anderson        8.0\n",
       "0            Ryan Anderson       12.4\n",
       "0             Ike Anigbogu        0.9\n",
       "0    Giannis Antetokounmpo       27.7\n",
       "0     Kostas Antetokounmpo        1.0\n",
       "0          Carmelo Anthony       24.0\n",
       "0               OG Anunoby        7.0\n",
       "0         Ryan Arcidiacono        6.7\n",
       "0             Trevor Ariza       12.5\n",
       "0            D.J. Augustin       11.7\n",
       "0            Deandre Ayton       16.3\n",
       "0             Dwayne Bacon        7.3\n",
       "0        Marvin Bagley III       14.9\n",
       "0                Ron Baker        3.1\n",
       "0          Wade Baldwin IV        3.1\n",
       "0               Lonzo Ball        9.9\n",
       "..                     ...        ...\n",
       "0          Julian Washburn        2.2\n",
       "0            Yuta Watanabe        2.6\n",
       "0             Thomas Welsh        1.6\n",
       "0        Russell Westbrook       22.9\n",
       "0            Derrick White        9.9\n",
       "0              Okaro White        2.7\n",
       "0         Isaiah Whitehead        7.2\n",
       "0         Hassan Whiteside       12.3\n",
       "0           Andrew Wiggins       18.1\n",
       "0            Alan Williams        6.2\n",
       "0            C.J. Williams        4.7\n",
       "0       Johnathan Williams        6.5\n",
       "0         Kenrich Williams        6.1\n",
       "0             Lou Williams       20.0\n",
       "0          Marvin Williams       10.1\n",
       "0            Troy Williams        5.3\n",
       "0      Robert Williams III        2.5\n",
       "0              D.J. Wilson        5.8\n",
       "0          Justise Winslow       12.6\n",
       "0           Christian Wood        8.2\n",
       "0             Delon Wright        8.7\n",
       "0       Guerschon Yabusele        2.3\n",
       "0               Nick Young       11.4\n",
       "0           Thaddeus Young       12.6\n",
       "0               Trae Young       19.1\n",
       "0              Cody Zeller       10.1\n",
       "0             Tyler Zeller        7.0\n",
       "0                  Zhou Qi        1.3\n",
       "0               Ante Zizic        7.8\n",
       "0              Ivica Zubac        8.9\n",
       "\n",
       "[538 rows x 2 columns]"
      ]
     },
     "execution_count": 415,
     "metadata": {},
     "output_type": "execute_result"
    }
   ],
   "source": [
    "career_stats = pd.DataFrame()\n",
    "for player in data:\n",
    "    row = {'DISPLAY_FIRST_LAST':player['DISPLAY_FIRST_LAST'],'C_AVG_PTS':player['CAREER_STATS']['PTS']}\n",
    "    new = pd.DataFrame(row,index=[0])\n",
    "    career_stats = pd.concat([career_stats, new])\n",
    "career_stats"
   ]
  },
  {
   "cell_type": "code",
   "execution_count": 417,
   "metadata": {},
   "outputs": [],
   "source": [
    "tester = pd.merge(df, career_stats, left_on='DISPLAY_FIRST_LAST', right_on='DISPLAY_FIRST_LAST', how='outer')"
   ]
  },
  {
   "cell_type": "code",
   "execution_count": 428,
   "metadata": {},
   "outputs": [
    {
     "data": {
      "text/plain": [
       "218"
      ]
     },
     "execution_count": 428,
     "metadata": {},
     "output_type": "execute_result"
    }
   ],
   "source": [
    "temp = tester.groupby('DISPLAY_FIRST_LAST').agg({'PTS':'mean','C_AVG_PTS':'mean'})\n",
    "len(temp.loc[temp['PTS'] > temp['C_AVG_PTS']])"
   ]
  },
  {
   "cell_type": "code",
   "execution_count": null,
   "metadata": {},
   "outputs": [],
   "source": []
  }
 ],
 "metadata": {
  "kernelspec": {
   "display_name": "Python 3",
   "language": "python",
   "name": "python3"
  },
  "language_info": {
   "codemirror_mode": {
    "name": "ipython",
    "version": 3
   },
   "file_extension": ".py",
   "mimetype": "text/x-python",
   "name": "python",
   "nbconvert_exporter": "python",
   "pygments_lexer": "ipython3",
   "version": "3.7.3"
  }
 },
 "nbformat": 4,
 "nbformat_minor": 2
}
